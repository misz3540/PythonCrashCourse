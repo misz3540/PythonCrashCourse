{
 "cells": [
  {
   "cell_type": "code",
   "execution_count": 17,
   "metadata": {},
   "outputs": [],
   "source": [
    "from pygal_maps_world.i18n import COUNTRIES\n",
    "\n",
    "def get_country_code(country_name):\n",
    "    \"\"\"Return the Pygal 2-digit country code for the given country.\"\"\"\n",
    "    different_name_dic = {'ye': 'Yemen, Rep.',\n",
    "                          'vn': 'Vietnam',\n",
    "                          've': ['Venezuela, RB','Venezuela'],\n",
    "                          'va': 'Vatican',\n",
    "                          'ru': 'Russia',\n",
    "                          'sy': 'Syria',\n",
    "                          'sd': 'South Sudan',\n",
    "                          'tl': 'Timor',\n",
    "                          'tw': 'Taiwan',\n",
    "                          'tz': 'Tanzania',\n",
    "                          'ps': 'Palestine',\n",
    "                          'ly': 'Libya',\n",
    "                          'md': 'Moldova',\n",
    "                          'mk': ['North Macedonia','Macedonia, FYR'],\n",
    "                          'hk':'Hong Kong SAR, China',\n",
    "                          'ir': ['Iran, Islamic Rep.', 'Iran'],\n",
    "                          'kp': ['Korea, Dem. Rep.', 'South Korea'],\n",
    "                          'kr': 'Korea, Rep.',\n",
    "                          'la': ['Lao PDR', 'Laos'],\n",
    "                          'kg':'Kyrgyz Republic',\n",
    "                          'eg': 'Egypt, Arab Rep.',\n",
    "                          'do': 'Dominica',\n",
    "                          'cg': 'Congo, Rep.',\n",
    "                          'cd': ['Congo, Dem. Rep.', 'Democratic Republic of Congo'],\n",
    "                          'cz': 'Czechia',\n",
    "                          'bn': 'Brunei',\n",
    "                          'bo': 'Bolivia',\n",
    "                          'mo': 'Macao SAR, China'}\n",
    "    \n",
    "    for code, name in COUNTRIES.items():\n",
    "        if name == country_name:\n",
    "            return code\n",
    "#         else:\n",
    "    for code2, name2 in different_name_dic.items():\n",
    "        if country_name in name2:\n",
    "            return code2\n",
    "    # If the country wasn't found, return None\n",
    "    return None"
   ]
  },
  {
   "cell_type": "code",
   "execution_count": 13,
   "metadata": {},
   "outputs": [],
   "source": [
    "# print(get_country_code('Andorra'))\n",
    "# print(get_country_code('United Arab Emirates'))\n",
    "# print(get_country_code('Afghanistan'))"
   ]
  },
  {
   "cell_type": "code",
   "execution_count": 20,
   "metadata": {},
   "outputs": [],
   "source": [
    "# print(get_country_code('China'))"
   ]
  },
  {
   "cell_type": "code",
   "execution_count": null,
   "metadata": {},
   "outputs": [],
   "source": []
  },
  {
   "cell_type": "code",
   "execution_count": 24,
   "metadata": {},
   "outputs": [],
   "source": []
  },
  {
   "cell_type": "code",
   "execution_count": null,
   "metadata": {},
   "outputs": [],
   "source": []
  }
 ],
 "metadata": {
  "kernelspec": {
   "display_name": "Python 3",
   "language": "python",
   "name": "python3"
  },
  "language_info": {
   "codemirror_mode": {
    "name": "ipython",
    "version": 3
   },
   "file_extension": ".py",
   "mimetype": "text/x-python",
   "name": "python",
   "nbconvert_exporter": "python",
   "pygments_lexer": "ipython3",
   "version": "3.7.4"
  }
 },
 "nbformat": 4,
 "nbformat_minor": 2
}
