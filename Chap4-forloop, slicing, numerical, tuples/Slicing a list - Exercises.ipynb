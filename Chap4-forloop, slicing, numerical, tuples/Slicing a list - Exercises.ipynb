{
 "cells": [
  {
   "cell_type": "code",
   "execution_count": 1,
   "metadata": {},
   "outputs": [],
   "source": [
    "planets = ['mercury', 'venus', 'earth', 'mars', 'jupiter', 'saturn', 'uranus', 'neptune']"
   ]
  },
  {
   "cell_type": "code",
   "execution_count": 2,
   "metadata": {},
   "outputs": [
    {
     "name": "stdout",
     "output_type": "stream",
     "text": [
      "The first three items in the list are: ['mercury', 'venus', 'earth']\n"
     ]
    }
   ],
   "source": [
    "print(\"The first three items in the list are: \" + str(planets[:3]))"
   ]
  },
  {
   "cell_type": "code",
   "execution_count": 4,
   "metadata": {},
   "outputs": [
    {
     "name": "stdout",
     "output_type": "stream",
     "text": [
      "Three items from the middle of the list are: ['mars', 'jupiter', 'saturn']\n"
     ]
    }
   ],
   "source": [
    "planets_midpt = int(len(planets)/2)\n",
    "print(\"Three items from the middle of the list are: \" + str(planets[planets_midpt-1:planets_midpt+2 ]))"
   ]
  },
  {
   "cell_type": "code",
   "execution_count": 6,
   "metadata": {},
   "outputs": [
    {
     "name": "stdout",
     "output_type": "stream",
     "text": [
      "The last three items in the list are: ['saturn', 'uranus', 'neptune']\n"
     ]
    }
   ],
   "source": [
    "print(\"The last three items in the list are: \" + str(planets[-3:]))"
   ]
  },
  {
   "cell_type": "code",
   "execution_count": 7,
   "metadata": {},
   "outputs": [
    {
     "name": "stdout",
     "output_type": "stream",
     "text": [
      "My pizza choices are: \n",
      "['supreme', 'veggie', 'seafood', 'beef']\n",
      "Friend's pizza choices are:\n",
      "['supreme', 'veggie', 'seafood', 'pepperoni']\n"
     ]
    }
   ],
   "source": [
    "pizzas = ['supreme', 'veggie', 'seafood']\n",
    "friend_pizzas = pizzas[:]\n",
    "\n",
    "pizzas.append(\"beef\")\n",
    "friend_pizzas.append(\"pepperoni\")\n",
    "\n",
    "print(\"My pizza choices are: \")\n",
    "print(pizzas)\n",
    "\n",
    "print(\"Friend's pizza choices are:\")\n",
    "print(friend_pizzas)"
   ]
  },
  {
   "cell_type": "code",
   "execution_count": 9,
   "metadata": {},
   "outputs": [
    {
     "name": "stdout",
     "output_type": "stream",
     "text": [
      "pizza\n",
      "falafel\n",
      "carrot cake\n",
      "falafel\n",
      "carrot cake\n",
      "ice cream\n"
     ]
    }
   ],
   "source": [
    "my_foods = ['pizza', 'falafel', 'carrot cake']\n",
    "for food in my_foods:\n",
    "    print(food)\n",
    "\n",
    "my_foods.append('ice cream')\n",
    "for food in my_foods[-3:]:\n",
    "    print(food)\n"
   ]
  },
  {
   "cell_type": "code",
   "execution_count": null,
   "metadata": {},
   "outputs": [],
   "source": []
  }
 ],
 "metadata": {
  "kernelspec": {
   "display_name": "Python 3",
   "language": "python",
   "name": "python3"
  },
  "language_info": {
   "codemirror_mode": {
    "name": "ipython",
    "version": 3
   },
   "file_extension": ".py",
   "mimetype": "text/x-python",
   "name": "python",
   "nbconvert_exporter": "python",
   "pygments_lexer": "ipython3",
   "version": "3.7.4"
  }
 },
 "nbformat": 4,
 "nbformat_minor": 2
}
