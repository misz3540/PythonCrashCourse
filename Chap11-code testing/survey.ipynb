{
 "cells": [
  {
   "cell_type": "code",
   "execution_count": 3,
   "metadata": {},
   "outputs": [],
   "source": [
    "class AnonymousSurvey():\n",
    "    \"\"\"Collect anonymous answers to a survey question.\"\"\"\n",
    "    \n",
    "    def __init__(self, question):\n",
    "        \"\"\"Store a question, and prepare to store responses.\"\"\"\n",
    "        self.question = question\n",
    "        self.responses = []\n",
    "        \n",
    "    def show_question(self):\n",
    "        \"\"\"Show the survey question.\"\"\"\n",
    "        print(self.question)\n",
    "        \n",
    "    def store_response(self, new_response):\n",
    "        self.responses.append(new_response)\n",
    "        \n",
    "    def show_results(self):\n",
    "        \"\"\"Show all the responses that have been given.\"\"\"\n",
    "        print(\"Survey results: \")\n",
    "        for response in self.responses:\n",
    "            print(\"- \" + response)"
   ]
  },
  {
   "cell_type": "code",
   "execution_count": null,
   "metadata": {},
   "outputs": [],
   "source": []
  }
 ],
 "metadata": {
  "kernelspec": {
   "display_name": "Python 3",
   "language": "python",
   "name": "python3"
  },
  "language_info": {
   "codemirror_mode": {
    "name": "ipython",
    "version": 3
   },
   "file_extension": ".py",
   "mimetype": "text/x-python",
   "name": "python",
   "nbconvert_exporter": "python",
   "pygments_lexer": "ipython3",
   "version": "3.7.4"
  }
 },
 "nbformat": 4,
 "nbformat_minor": 2
}
