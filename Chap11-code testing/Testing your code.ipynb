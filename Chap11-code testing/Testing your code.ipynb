{
 "cells": [
  {
   "cell_type": "code",
   "execution_count": null,
   "metadata": {},
   "outputs": [],
   "source": [
    "#should have name_function.py\n",
    "from name_function import get_formatted_name\n",
    "\n",
    "print(\"Enter 'q' at any time to quit.\")\n",
    "while True:\n",
    "    first =  input(\"\\nPlease give me a first name: \")\n",
    "    if first == 'q':\n",
    "        break\n",
    "    last = input(\"Please give me a last name: \")\n",
    "    if last == 'q':\n",
    "        break\n",
    "        \n",
    "    formatted_name = get_formatted_name(first, last)\n",
    "    print(\"\\tNeatly formatted name: \" + formatted_name + \".\")"
   ]
  },
  {
   "cell_type": "markdown",
   "metadata": {},
   "source": [
    "# test_name_function"
   ]
  },
  {
   "cell_type": "code",
   "execution_count": null,
   "metadata": {},
   "outputs": [],
   "source": [
    "import unittest\n",
    "from name_function import get_formatted_name\n",
    "\n",
    "class NameTestCase(unittest.TestCase):\n",
    "    \"\"\"Tests for 'name_function.py'.\"\"\"\n",
    "    \n",
    "    def test_first_last_name(self):\n",
    "        \"\"\"Do names like 'Janis Joplin' work?\"\"\"\n",
    "        formatted_name = get_formatted_name('janis', 'joplin')\n",
    "        self.assertEqual(formatted_name, 'Janis Joplin')\n",
    "        \n",
    "    def test_first_last_middle_name(self):\n",
    "        \"\"\"Do names like 'Wolfgang Amadeus Mozart' work?\"\"\"\n",
    "        formatted_name = get_formatted_name('Wolfgang', 'Mozart', 'Amadeus')\n",
    "        self.assertEqual(formatted_name, 'Wolfgang Amadeus Mozart')\n",
    "        \n",
    "if __name__ == '__main__':\n",
    "    unittest.main(argv=['first-arg-is-ignored'], exit=False)\n",
    "    \n"
   ]
  },
  {
   "cell_type": "markdown",
   "metadata": {},
   "source": [
    "# Testing a class"
   ]
  },
  {
   "cell_type": "code",
   "execution_count": 1,
   "metadata": {},
   "outputs": [
    {
     "name": "stdout",
     "output_type": "stream",
     "text": [
      "What language did you first learn to speak?\n",
      "Enter 'q' at anytime to quit. \n",
      "\n",
      "Language: Chinese\n",
      "Language: English\n",
      "Language: English\n",
      "Language: q\n",
      "\n",
      "Thank you to everyone who participated in the survey!\n",
      "Survey results: \n",
      "- Chinese\n",
      "- English\n",
      "- English\n"
     ]
    }
   ],
   "source": [
    "#language_survey.py\n",
    "\n",
    "from survey import AnonymousSurvey\n",
    "\n",
    "# Define a question, and make a survey.\n",
    "question = \"What language did you first learn to speak?\"\n",
    "my_survey = AnonymousSurvey(question)\n",
    "\n",
    "# Show the question, and store responses to the question.\n",
    "my_survey.show_question()\n",
    "print(\"Enter 'q' at anytime to quit. \\n\")\n",
    "while True:\n",
    "    response = input(\"Language: \")\n",
    "    if response == 'q':\n",
    "        break\n",
    "    my_survey.store_response(response)\n",
    "    \n",
    "# Show the survey results.\n",
    "print(\"\\nThank you to everyone who participated in the survey!\")\n",
    "my_survey.show_results()\n",
    "        \n"
   ]
  },
  {
   "cell_type": "code",
   "execution_count": 3,
   "metadata": {},
   "outputs": [
    {
     "name": "stderr",
     "output_type": "stream",
     "text": [
      "..\n",
      "----------------------------------------------------------------------\n",
      "Ran 2 tests in 0.007s\n",
      "\n",
      "OK\n"
     ]
    }
   ],
   "source": [
    "#test_survey.py\n",
    "\n",
    "import unittest\n",
    "from survey import AnonymousSurvey\n",
    "\n",
    "class TestAnonymousSurvey(unittest.TestCase):\n",
    "    \"\"\"Tests for the class AnonymousSurvey\"\"\"\n",
    "    \n",
    "    def test_store_single_response(self):\n",
    "        \"\"\"Test that a single response is stored properly.\"\"\"\n",
    "        question = \"What language did you first learn to speak?\"\n",
    "        my_survey = AnonymousSurvey(question)\n",
    "        my_survey.store_response('English')\n",
    "        \n",
    "        self.assertIn('English', my_survey.responses)\n",
    "        \n",
    "    def test_store_three_responses(self):\n",
    "        \"\"\"Test that three individual responses are stored properly.\"\"\"\n",
    "        question = \"What language did you first learn to speak?\"\n",
    "        my_survey = AnonymousSurvey(question)\n",
    "        responses = ['English', 'Spanish', 'Mandarin']\n",
    "        for response in responses:\n",
    "            my_survey.store_response(response)\n",
    "           \n",
    "        for response in responses:\n",
    "            self.assertIn(response, my_survey.responses)\n",
    "        \n",
    "        \n",
    "        \n",
    "if __name__ == '__main__':\n",
    "    unittest.main(argv=['first-arg-is-ignored'], exit=False)"
   ]
  },
  {
   "cell_type": "markdown",
   "metadata": {},
   "source": [
    "# setUp() method"
   ]
  },
  {
   "cell_type": "code",
   "execution_count": 4,
   "metadata": {},
   "outputs": [
    {
     "name": "stderr",
     "output_type": "stream",
     "text": [
      "..\n",
      "----------------------------------------------------------------------\n",
      "Ran 2 tests in 0.007s\n",
      "\n",
      "OK\n"
     ]
    }
   ],
   "source": [
    "#test_survey.py\n",
    "\n",
    "import unittest\n",
    "from survey import AnonymousSurvey\n",
    "\n",
    "class TestAnonymousSurvey(unittest.TestCase):\n",
    "    \"\"\"Tests for the class AnonymousSurvey\"\"\"\n",
    "    \n",
    "    def setUp(self):\n",
    "        \"\"\"Create a survey and a set of responses for use in all test methods\"\"\"\n",
    "        question = \"What language did you first learn to speak?\"\n",
    "        self.my_survey = AnonymousSurvey(question)\n",
    "        self.responses = ['English', 'Spanish', 'Mandarin']\n",
    "    \n",
    "    def test_store_single_response(self):\n",
    "        \"\"\"Test that a single response is stored properly.\"\"\"\n",
    "        self.my_survey.store_response(self.responses[0])\n",
    "        self.assertIn(self.responses[0], self.my_survey.responses)\n",
    "        \n",
    "    def test_store_three_responses(self):\n",
    "        \"\"\"Test that three individual responses are stored properly.\"\"\"\n",
    "        for response in self.responses:\n",
    "            self.my_survey.store_response(response)\n",
    "           \n",
    "        for response in self.responses:\n",
    "            self.assertIn(response, self.my_survey.responses)\n",
    "        \n",
    "        \n",
    "if __name__ == '__main__':\n",
    "    unittest.main(argv=['first-arg-is-ignored'], exit=False)"
   ]
  },
  {
   "cell_type": "code",
   "execution_count": null,
   "metadata": {},
   "outputs": [],
   "source": []
  }
 ],
 "metadata": {
  "kernelspec": {
   "display_name": "Python 3",
   "language": "python",
   "name": "python3"
  },
  "language_info": {
   "codemirror_mode": {
    "name": "ipython",
    "version": 3
   },
   "file_extension": ".py",
   "mimetype": "text/x-python",
   "name": "python",
   "nbconvert_exporter": "python",
   "pygments_lexer": "ipython3",
   "version": "3.7.4"
  }
 },
 "nbformat": 4,
 "nbformat_minor": 2
}
