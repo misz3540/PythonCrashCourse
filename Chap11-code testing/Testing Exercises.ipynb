{
 "cells": [
  {
   "cell_type": "markdown",
   "metadata": {},
   "source": [
    "# 11-1 City, country"
   ]
  },
  {
   "cell_type": "code",
   "execution_count": null,
   "metadata": {},
   "outputs": [],
   "source": [
    "#test_cities.py\n",
    "import unittest\n",
    "\n",
    "from city_functions import get_city_country\n",
    "\n",
    "class CityTestCase(unittest.TestCase):\n",
    "    \"\"\"Tests for city_functions.py. \"\"\"\n",
    "    \n",
    "    def test_city_country(self):\n",
    "        \"\"\"Does 'Santiago, Chile' work?\"\"\"\n",
    "        formatted_city_name = get_city_country('santiago', 'chile')\n",
    "        self.assertEqual(formatted_city_name, 'Santiago, Chile')\n",
    "        \n",
    "if __name__== '__main__':\n",
    "    unittest.main(argv=['first-arg-is-ignored'], exit=False)\n",
    "    \n",
    "\n"
   ]
  },
  {
   "cell_type": "markdown",
   "metadata": {},
   "source": [
    "# 11-2 Population"
   ]
  },
  {
   "cell_type": "code",
   "execution_count": null,
   "metadata": {},
   "outputs": [],
   "source": [
    "#test_cities.py\n",
    "import unittest\n",
    "\n",
    "from city_functions import get_city_country\n",
    "\n",
    "class CityTestCase(unittest.TestCase):\n",
    "    \"\"\"Tests for city_functions.py. \"\"\"\n",
    "    \n",
    "    def test_city_country_pop(self):\n",
    "        \"\"\"Does 'Santiago, Chile - population 5000000' work?\"\"\"\n",
    "        formatted_city_name = get_city_country('santiago', 'chile', 5000000)\n",
    "        self.assertEqual(formatted_city_name, 'Santiago, Chile - population 5000000')\n",
    "        \n",
    "    def test_city_country(self):\n",
    "        \"\"\"Does 'Santiago, Chile' work?\"\"\"\n",
    "        formatted_city_name = get_city_country('santiago', 'chile')\n",
    "        self.assertEqual(formatted_city_name, 'Santiago, Chile')\n",
    "        \n",
    "if __name__== '__main__':\n",
    "    unittest.main(argv=['first-arg-is-ignored'], exit=False)\n",
    "    "
   ]
  },
  {
   "cell_type": "markdown",
   "metadata": {},
   "source": [
    "# 11-3 Employee"
   ]
  },
  {
   "cell_type": "code",
   "execution_count": 6,
   "metadata": {},
   "outputs": [
    {
     "name": "stderr",
     "output_type": "stream",
     "text": [
      "..\n",
      "----------------------------------------------------------------------\n",
      "Ran 2 tests in 0.005s\n",
      "\n",
      "OK\n"
     ]
    }
   ],
   "source": [
    "import unittest\n",
    "\n",
    "from employee import EmployeeSalary\n",
    "\n",
    "class EmployeeTestCase(unittest.TestCase):\n",
    "    \"\"\"Tests for the class EmployeeSalary\"\"\"\n",
    "\n",
    "    def setUp(self):\n",
    "        \"\"\"Create cases where salary raise amounts are varied and set to default for use in all test methods\"\"\"\n",
    "        self.salary = 30000\n",
    "        self.employee1 = EmployeeSalary('Jane', 'Doe', self.salary)\n",
    "        self.possible_raise_amts = ['default', 1000]\n",
    "        \n",
    "    def test_give_default_raise(self):\n",
    "        \"\"\".\"\"\"\n",
    "        total_salary = self.employee1.give_raise()\n",
    "        self.assertEqual(total_salary, self.salary + 5000 )\n",
    "    \n",
    "    def test_give_custom_raise(self):\n",
    "        \"\"\".\"\"\"\n",
    "        total_salary = self.employee1.give_raise(self.possible_raise_amts[1])\n",
    "        self.assertEqual(total_salary, self.salary + self.possible_raise_amts[1] )\n",
    "        \n",
    "if __name__== '__main__':\n",
    "    unittest.main(argv=['first-arg-is-ignored'], exit=False)"
   ]
  },
  {
   "cell_type": "code",
   "execution_count": null,
   "metadata": {},
   "outputs": [],
   "source": []
  }
 ],
 "metadata": {
  "kernelspec": {
   "display_name": "Python 3",
   "language": "python",
   "name": "python3"
  },
  "language_info": {
   "codemirror_mode": {
    "name": "ipython",
    "version": 3
   },
   "file_extension": ".py",
   "mimetype": "text/x-python",
   "name": "python",
   "nbconvert_exporter": "python",
   "pygments_lexer": "ipython3",
   "version": "3.7.4"
  }
 },
 "nbformat": 4,
 "nbformat_minor": 2
}
