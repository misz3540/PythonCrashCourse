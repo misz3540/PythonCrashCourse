{
 "cells": [
  {
   "cell_type": "markdown",
   "metadata": {},
   "source": [
    "# 6-1 Person"
   ]
  },
  {
   "cell_type": "code",
   "execution_count": 1,
   "metadata": {},
   "outputs": [
    {
     "name": "stdout",
     "output_type": "stream",
     "text": [
      "first name: Jane\n",
      "last_name: Doe\n",
      "age: 24\n",
      "city: New York\n"
     ]
    }
   ],
   "source": [
    "person = {'first_name': 'Jane', 'last_name': 'Doe', 'age': 24, 'city': 'New York'}\n",
    "print(\"first name: \" + person['first_name'] +\n",
    "      \"\\nlast name: \" + person['last_name'] +\n",
    "      \"\\nage: \" + str(person['age']) +\n",
    "      \"\\ncity: \" + person['city'])\n",
    "     "
   ]
  },
  {
   "cell_type": "markdown",
   "metadata": {},
   "source": [
    "# 6-2 Favorite numbers"
   ]
  },
  {
   "cell_type": "code",
   "execution_count": 4,
   "metadata": {},
   "outputs": [
    {
     "name": "stdout",
     "output_type": "stream",
     "text": [
      "{'jerrold': 17, 'kayla': 23, 'darla': 10, 'ken': 47, 'anna': 8}\n",
      "Jerrold's favorite number is 17.\n",
      "Kayla's favorite number is 23.\n",
      "Anna's favorite number is 8.\n",
      "Darla's favorite number is 10.\n",
      "Ken's favorite number is 47.\n"
     ]
    }
   ],
   "source": [
    "fav_numbers = {}\n",
    "fav_numbers['jerrold'] = 17 \n",
    "fav_numbers['kayla'] = 23\n",
    "fav_numbers['darla'] = 10\n",
    "fav_numbers['ken'] = 47\n",
    "fav_numbers['anna'] = 8\n",
    "\n",
    "print(fav_numbers)\n",
    "\n",
    "print(\"Jerrold's favorite number is \" + str(fav_numbers['jerrold']) + \".\\n\" +\n",
    "     \"Kayla's favorite number is \" + str(fav_numbers['kayla']) + \".\\n\" +\n",
    "     \"Anna's favorite number is \" + str(fav_numbers['anna']) + \".\\n\" +\n",
    "     \"Darla's favorite number is \" + str(fav_numbers['darla']) + \".\\n\" +\n",
    "     \"Ken's favorite number is \" + str(fav_numbers['ken']) + \".\")"
   ]
  },
  {
   "cell_type": "markdown",
   "metadata": {},
   "source": [
    "# 6-4 Glossary"
   ]
  },
  {
   "cell_type": "code",
   "execution_count": 3,
   "metadata": {},
   "outputs": [
    {
     "name": "stdout",
     "output_type": "stream",
     "text": [
      "Opuscule: A small or minor literary or musical work.\n",
      "Fugleman: A leader.\n",
      "Quotidian: Ordinary or everyday, especially when mundane.\n",
      "Subitaneous: That occurs or is manifested suddenly, spontaneously, or in haste; sudden, hasty, unexpected.\n",
      "Quaesitum: That which is sought; the answer to a problem.\n",
      "Georgic: Rustic; pastoral.\n",
      "\n",
      "\n",
      "Fugleman: A leader.\n",
      "Georgic: Rustic; pastoral.\n",
      "Opuscule: A small or minor literary or musical work.\n",
      "Quaesitum: That which is sought; the answer to a problem.\n",
      "Quotidian: Ordinary or everyday, especially when mundane.\n",
      "Subitaneous: That occurs or is manifested suddenly, spontaneously, or in haste; sudden, hasty, unexpected.\n"
     ]
    }
   ],
   "source": [
    "glossary = {}\n",
    "glossary['opuscule'] = 'A small or minor literary or musical work.'\n",
    "glossary['fugleman'] = 'A leader.'\n",
    "glossary['quotidian'] = 'Ordinary or everyday, especially when mundane.'\n",
    "glossary['subitaneous'] = 'That occurs or is manifested suddenly, spontaneously, or in haste; sudden, hasty, unexpected.'\n",
    "glossary['quaesitum'] = 'That which is sought; the answer to a problem.'\n",
    "glossary['georgic'] = 'Rustic; pastoral.'\n",
    "\n",
    "for term, definition in glossary.items():\n",
    "    print(term.title() + \": \" + definition)\n",
    "    \n",
    "print(\"\\n\")\n",
    "for term, definition in sorted(glossary.items()):\n",
    "    print(term.title() + \": \" + definition)"
   ]
  },
  {
   "cell_type": "code",
   "execution_count": 7,
   "metadata": {},
   "outputs": [
    {
     "name": "stdout",
     "output_type": "stream",
     "text": [
      "Fugleman: A leader.\n",
      "Georgic: Rustic; pastoral.\n",
      "Inculcate: Ingrain.\n",
      "Opuscule: A small or minor literary or musical work.\n",
      "Quaesitum: That which is sought; the answer to a problem.\n",
      "Quotidian: Ordinary or everyday, especially when mundane.\n",
      "Subitaneous: That occurs or is manifested suddenly, spontaneously, or in haste; sudden, hasty, unexpected.\n",
      "Veridical: Truthful.\n"
     ]
    }
   ],
   "source": [
    "glossary['veridical'] = 'Truthful.'\n",
    "glossary['inculcate'] = 'Ingrain.'\n",
    "\n",
    "for term, definition in sorted(glossary.items()):\n",
    "    print(term.title() + \": \" + definition)"
   ]
  },
  {
   "cell_type": "code",
   "execution_count": 8,
   "metadata": {},
   "outputs": [
    {
     "data": {
      "text/plain": [
       "8"
      ]
     },
     "execution_count": 8,
     "metadata": {},
     "output_type": "execute_result"
    }
   ],
   "source": [
    "len(glossary)"
   ]
  },
  {
   "cell_type": "markdown",
   "metadata": {},
   "source": [
    "# 6-5 Rivers"
   ]
  },
  {
   "cell_type": "code",
   "execution_count": 11,
   "metadata": {},
   "outputs": [
    {
     "name": "stdout",
     "output_type": "stream",
     "text": [
      "The Nile runs through Egypt.\n",
      "The Yangtze runs through China.\n",
      "The Mississippi runs through America.\n"
     ]
    }
   ],
   "source": [
    "rivers = {'nile': 'egypt', 'yangtze': 'china', 'mississippi': 'america'}\n",
    "for river, country in rivers.items():\n",
    "    print(\"The \" + river.title() + \" runs through \" + country.title() + \".\")"
   ]
  },
  {
   "cell_type": "code",
   "execution_count": 12,
   "metadata": {},
   "outputs": [
    {
     "name": "stdout",
     "output_type": "stream",
     "text": [
      "Nile\n",
      "Yangtze\n",
      "Mississippi\n"
     ]
    }
   ],
   "source": [
    "for river in rivers.keys():\n",
    "    print(river.title())"
   ]
  },
  {
   "cell_type": "code",
   "execution_count": 13,
   "metadata": {},
   "outputs": [
    {
     "name": "stdout",
     "output_type": "stream",
     "text": [
      "Egypt\n",
      "China\n",
      "America\n"
     ]
    }
   ],
   "source": [
    "for country in rivers.values():\n",
    "    print(country.title())"
   ]
  },
  {
   "cell_type": "code",
   "execution_count": 20,
   "metadata": {},
   "outputs": [
    {
     "name": "stdout",
     "output_type": "stream",
     "text": [
      "Jordan, please take the poll.\n",
      "Dan, please take the poll.\n",
      "Ed, thanks for responding.\n",
      "Jen, thanks for responding.\n",
      "Leila, please take the poll.\n"
     ]
    }
   ],
   "source": [
    "favorite_languages = {\n",
    "    'jen': 'python',\n",
    "    'sarah': 'c',\n",
    "    'ed': 'ruby',\n",
    "    'phil': 'python',\n",
    "    }\n",
    "\n",
    "people = ['Jordan', 'dan', 'Ed', 'jen', 'leila']\n",
    "polled = [name.title() for name in favorite_languages.keys()]\n",
    "\n",
    "for name in people:\n",
    "    if name.title() in polled:\n",
    "        print(name.title() + \", thanks for responding.\")\n",
    "    else:\n",
    "        print(name.title() + \", please take the poll.\")"
   ]
  },
  {
   "cell_type": "markdown",
   "metadata": {},
   "source": [
    "# 6-7 People"
   ]
  },
  {
   "cell_type": "code",
   "execution_count": 9,
   "metadata": {},
   "outputs": [
    {
     "name": "stdout",
     "output_type": "stream",
     "text": [
      "\n",
      "Name: Jane Doe\n",
      "Age: 24\n",
      "City: New York\n",
      "\n",
      "Name: Pedro Dimalanta\n",
      "Age: 28\n",
      "City: Manila\n",
      "\n",
      "Name: Maria Lopez\n",
      "Age: 38\n",
      "City: Mexico\n"
     ]
    }
   ],
   "source": [
    "person_1 = {'first_name': 'Jane', 'last_name': 'Doe', 'age': 24, 'city': 'New York'}\n",
    "person_2 = {'first_name': 'Pedro', 'last_name': 'Dimalanta', 'age': 28, 'city': 'Manila'}\n",
    "person_3 = {'first_name': 'Maria', 'last_name': 'Lopez', 'age': 38, 'city': 'Mexico'}\n",
    "\n",
    "people = []\n",
    "people.append(person_1)\n",
    "people.append(person_2)\n",
    "people.append(person_3)\n",
    "# print(people)\n",
    "\n",
    "for person in people:\n",
    "    name = person['first_name'] + \" \" + person['last_name']\n",
    "    print(\"\\nName: \" + name)\n",
    "    print(\"Age: \" + str(person['age']))\n",
    "    print(\"City: \" + person['city'])\n",
    "#     print(person)"
   ]
  },
  {
   "cell_type": "markdown",
   "metadata": {},
   "source": [
    "# 6-8 Pets"
   ]
  },
  {
   "cell_type": "code",
   "execution_count": 14,
   "metadata": {},
   "outputs": [
    {
     "name": "stdout",
     "output_type": "stream",
     "text": [
      "kind: Dog\n",
      "owner: Shaggy\n",
      "\t\n",
      "kind: Cat\n",
      "owner: Darla\n",
      "\t\n",
      "kind: Snake\n",
      "owner: John\n",
      "\t\n",
      "kind: Hamster\n",
      "owner: Tom\n",
      "\t\n"
     ]
    }
   ],
   "source": [
    "pet_1 = {'kind': 'dog', 'owner': 'shaggy'}\n",
    "pet_2 = {'kind': 'cat', 'owner': 'darla'}\n",
    "pet_3 = {'kind': 'snake', 'owner': 'john'}\n",
    "pet_4 = {'kind': 'hamster', 'owner': 'tom'}\n",
    "\n",
    "pets = [pet_1, pet_2, pet_3, pet_4]\n",
    "\n",
    "for pet in pets:\n",
    "    for key, value in pet.items():\n",
    "        print(key + \": \" + value.title())\n",
    "    print(\"\\t\")\n",
    "    \n",
    "    "
   ]
  },
  {
   "cell_type": "markdown",
   "metadata": {},
   "source": [
    "# Favorite places"
   ]
  },
  {
   "cell_type": "code",
   "execution_count": 22,
   "metadata": {},
   "outputs": [
    {
     "name": "stdout",
     "output_type": "stream",
     "text": [
      "Ming's favorite places: \n",
      "\tGreat wall\n",
      "\tCoffee shop\n",
      "\tLibrary\n",
      "\n",
      "\n",
      "Eddie's favorite places: \n",
      "\tGym\n",
      "\tBasketball court\n",
      "\n",
      "\n",
      "Garrett's favorite places: \n",
      "\tPopcorn shop\n",
      "\tGrocery store\n",
      "\n",
      "\n"
     ]
    }
   ],
   "source": [
    "favorite_places = {\n",
    "    'Ming': ['great wall', 'coffee shop', 'library'],\n",
    "    'Eddie': ['gym', 'basketball court'],\n",
    "    'Garrett': ['popcorn shop', 'grocery store']\n",
    "    }\n",
    "\n",
    "for name, places in favorite_places.items():\n",
    "    print(name.title() + \"'s favorite places: \")\n",
    "    for place in places:\n",
    "        if len(place.split())>1:\n",
    "            place_name = place.split()[0].title() + \" \" + place.split()[1].lower()\n",
    "        else:\n",
    "            place_name = place.title()\n",
    "        \n",
    "        print(\"\\t\" + place_name)\n",
    "    print(\"\\n\")"
   ]
  },
  {
   "cell_type": "code",
   "execution_count": 19,
   "metadata": {},
   "outputs": [
    {
     "data": {
      "text/plain": [
       "2"
      ]
     },
     "execution_count": 19,
     "metadata": {},
     "output_type": "execute_result"
    }
   ],
   "source": [
    "len(place.split())"
   ]
  },
  {
   "cell_type": "markdown",
   "metadata": {},
   "source": [
    "# 6-10 Favorite numbers"
   ]
  },
  {
   "cell_type": "code",
   "execution_count": 24,
   "metadata": {},
   "outputs": [
    {
     "name": "stdout",
     "output_type": "stream",
     "text": [
      "Jerrold: \n",
      "\t7\n",
      "\t6\n",
      "\t17\n",
      "Kayla: \n",
      "\t23\n",
      "\t32\n",
      "\t54\n",
      "\t99\n",
      "Darla: \n",
      "\t10\n",
      "Ken: \n",
      "\t47\n",
      "\t43\n",
      "\t41\n",
      "Anna: \n",
      "\t8\n",
      "\t88\n"
     ]
    }
   ],
   "source": [
    "fav_numbers = {}\n",
    "fav_numbers['jerrold'] = [7, 6, 17] \n",
    "fav_numbers['kayla'] = [23, 32, 54, 99]\n",
    "fav_numbers['darla'] = [10]\n",
    "fav_numbers['ken'] = [47, 43, 41]\n",
    "fav_numbers['anna'] = [8, 88]\n",
    "\n",
    "for person, numbers in fav_numbers.items():\n",
    "    print(person.title() + \": \")\n",
    "    for number in numbers:\n",
    "        print(\"\\t\" + str(number))"
   ]
  },
  {
   "cell_type": "markdown",
   "metadata": {},
   "source": [
    "# 6-11 Cities"
   ]
  },
  {
   "cell_type": "code",
   "execution_count": 28,
   "metadata": {},
   "outputs": [
    {
     "name": "stdout",
     "output_type": "stream",
     "text": [
      "\n",
      "Amsterdam:\n",
      "Country: netherlands\n",
      "Population: 821752\n",
      "Fact: The red light district is a popular destination.\n",
      "\n",
      "Modena:\n",
      "Country: italy\n",
      "Population: 184727\n",
      "Fact: Modena is known as the world's 'Supercar Capital'.\n",
      "\n",
      "Manila:\n",
      "Country: Philippines\n",
      "Population: 1780000\n",
      "Fact: Manila has been the principal city of the Philippines for four centuries.\n"
     ]
    }
   ],
   "source": [
    "cities = {\n",
    "    'amsterdam': {\n",
    "        'country' : 'netherlands',\n",
    "        'population': 821752,\n",
    "        'fact' : 'The red light district is a popular destination.'\n",
    "        },\n",
    "    'modena': {\n",
    "        'country' : 'italy',\n",
    "        'population': 184727,\n",
    "        'fact' : \"Modena is known as the world's 'Supercar Capital'.\"\n",
    "        },\n",
    "    'manila': {\n",
    "        'country' : 'Philippines',\n",
    "        'population': 1780000,\n",
    "        'fact' : \"Manila has been the principal city of the Philippines for four centuries.\"\n",
    "        },\n",
    "    }\n",
    "\n",
    "for city, info in cities.items():\n",
    "    print(\"\\n\" + city.title() + \":\")\n",
    "    for key, value in info.items():\n",
    "        print(key.title() + \": \" + str(value))"
   ]
  },
  {
   "cell_type": "code",
   "execution_count": null,
   "metadata": {},
   "outputs": [],
   "source": []
  }
 ],
 "metadata": {
  "kernelspec": {
   "display_name": "Python 3",
   "language": "python",
   "name": "python3"
  },
  "language_info": {
   "codemirror_mode": {
    "name": "ipython",
    "version": 3
   },
   "file_extension": ".py",
   "mimetype": "text/x-python",
   "name": "python",
   "nbconvert_exporter": "python",
   "pygments_lexer": "ipython3",
   "version": "3.7.4"
  }
 },
 "nbformat": 4,
 "nbformat_minor": 2
}
