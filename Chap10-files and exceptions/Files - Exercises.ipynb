{
 "cells": [
  {
   "cell_type": "markdown",
   "metadata": {},
   "source": [
    "# 10-1 Learning python"
   ]
  },
  {
   "cell_type": "code",
   "execution_count": 1,
   "metadata": {},
   "outputs": [
    {
     "name": "stdout",
     "output_type": "stream",
     "text": [
      "In Python, you can do list comprehension format in place of for loop.\n",
      "In Python, you can read out a text file.\n",
      "In Python, you can store lines of strings as a list from a text file.\n"
     ]
    }
   ],
   "source": [
    "filename = 'learning_python.txt'\n",
    "with open(filename) as file_object:\n",
    "    file = file_object.read()\n",
    "print(file.strip())"
   ]
  },
  {
   "cell_type": "code",
   "execution_count": 2,
   "metadata": {},
   "outputs": [
    {
     "name": "stdout",
     "output_type": "stream",
     "text": [
      "In Python, you can do list comprehension format in place of for loop.\n",
      "In Python, you can read out a text file.\n",
      "In Python, you can store lines of strings as a list from a text file.\n"
     ]
    }
   ],
   "source": [
    "filename = 'learning_python.txt'\n",
    "with open(filename) as file_object:\n",
    "    for line in file_object:\n",
    "        print(line.strip())"
   ]
  },
  {
   "cell_type": "code",
   "execution_count": 3,
   "metadata": {},
   "outputs": [
    {
     "name": "stdout",
     "output_type": "stream",
     "text": [
      "In Python, you can do list comprehension format in place of for loop.\n",
      "In Python, you can read out a text file.\n",
      "In Python, you can store lines of strings as a list from a text file.\n"
     ]
    }
   ],
   "source": [
    "filename = 'learning_python.txt'\n",
    "with open(filename) as file_object:\n",
    "    lines = file_object.readlines()\n",
    "    \n",
    "for line in lines:\n",
    "    print(line.strip())"
   ]
  },
  {
   "cell_type": "markdown",
   "metadata": {},
   "source": [
    "# 10-2 Learning C"
   ]
  },
  {
   "cell_type": "code",
   "execution_count": 5,
   "metadata": {},
   "outputs": [
    {
     "data": {
      "text/plain": [
       "'I really like cats and cathat.'"
      ]
     },
     "execution_count": 5,
     "metadata": {},
     "output_type": "execute_result"
    }
   ],
   "source": [
    "message = 'I really like dogs and doghat.'\n",
    "message.replace('dog', 'cat')"
   ]
  },
  {
   "cell_type": "code",
   "execution_count": 8,
   "metadata": {},
   "outputs": [
    {
     "name": "stdout",
     "output_type": "stream",
     "text": [
      "In C, you can do list comprehension format in place of for loop.\n",
      "In C, you can read out a text file.\n",
      "In C, you can store lines of strings as a list from a text file.\n"
     ]
    }
   ],
   "source": [
    "filename = 'learning_python.txt'\n",
    "with open(filename) as file_object:\n",
    "    lines = file_object.readlines()\n",
    "for line in lines:\n",
    "    print(line.replace('Python', 'C').strip())\n",
    "    "
   ]
  },
  {
   "cell_type": "markdown",
   "metadata": {},
   "source": [
    "# 10-3 Guest"
   ]
  },
  {
   "cell_type": "code",
   "execution_count": 1,
   "metadata": {},
   "outputs": [
    {
     "name": "stdout",
     "output_type": "stream",
     "text": [
      "Enter guest name: Jane Doe\n",
      "Jane Doe\n",
      "\n"
     ]
    }
   ],
   "source": [
    "filename = 'guest.txt'\n",
    "\n",
    "user_name = input(\"Enter guest name: \")\n",
    "\n",
    "with open(filename, 'w') as file_object:\n",
    "    file_object.write(user_name + '\\n')\n",
    "    \n",
    "with open(filename) as file_object:\n",
    "    file = file_object.read()\n",
    "print(file)"
   ]
  },
  {
   "cell_type": "markdown",
   "metadata": {},
   "source": [
    "# 10-4 Guest book"
   ]
  },
  {
   "cell_type": "code",
   "execution_count": 12,
   "metadata": {},
   "outputs": [
    {
     "name": "stdout",
     "output_type": "stream",
     "text": [
      "Enter user name: \n",
      "(Enter 'quit' to end session.) jane doe\n",
      "Jane Doe's number of visits: 3\n",
      "\n",
      "Enter user name: \n",
      "(Enter 'quit' to end session.) quit\n"
     ]
    }
   ],
   "source": [
    "filename = 'guest_book.txt'\n",
    "\n",
    "active = True\n",
    "\n",
    "prompt = \"Enter user name: \"\n",
    "prompt += \"\\n(Enter 'quit' to end session.) \"\n",
    "\n",
    "# log_book = ''\n",
    "while active:\n",
    "    user = input(prompt)\n",
    "    if user == 'quit':\n",
    "        break\n",
    "    else:\n",
    "        with open(filename,'a') as file_object:\n",
    "            file_object.write(user.title() + '\\n')\n",
    "        with open(filename) as file_object:\n",
    "            lines = file_object.readlines()\n",
    "        user_visit = lines.count(user.title() + '\\n')\n",
    "        print(user.title() + \"'s number of visits: \" + str(user_visit) + \"\\n\")\n",
    "    "
   ]
  },
  {
   "cell_type": "markdown",
   "metadata": {},
   "source": [
    "# 10-5 Programming poll"
   ]
  },
  {
   "cell_type": "code",
   "execution_count": 15,
   "metadata": {},
   "outputs": [
    {
     "name": "stdout",
     "output_type": "stream",
     "text": [
      "Why do you like programming: \n",
      "(Enter 'quit' to end session.) because it's fun.\n",
      "Why do you like programming: \n",
      "(Enter 'quit' to end session.) it's important to get a job.\n",
      "Why do you like programming: \n",
      "(Enter 'quit' to end session.) i like creating apps\n",
      "Why do you like programming: \n",
      "(Enter 'quit' to end session.) quit\n"
     ]
    }
   ],
   "source": [
    "filename = 'programming_poll.txt'\n",
    "\n",
    "active = True\n",
    "\n",
    "prompt = \"Why do you like programming: \"\n",
    "prompt += \"\\n(Enter 'quit' to end session.) \"\n",
    "\n",
    "while active:\n",
    "    reason = input(prompt)\n",
    "    if reason == 'quit':\n",
    "        break\n",
    "    else:\n",
    "        with open(filename, 'a') as file_object:\n",
    "            file_object.write(reason + \"\\n\")"
   ]
  },
  {
   "cell_type": "code",
   "execution_count": 16,
   "metadata": {},
   "outputs": [
    {
     "name": "stdout",
     "output_type": "stream",
     "text": [
      "because it's fun.\n",
      "it's important to get a job.\n",
      "i like creating apps\n",
      "\n"
     ]
    }
   ],
   "source": [
    "with open(filename) as file_object:\n",
    "    file = file_object.read()\n",
    "print(file)"
   ]
  },
  {
   "cell_type": "markdown",
   "metadata": {},
   "source": [
    "# 10-6 Addition"
   ]
  },
  {
   "cell_type": "code",
   "execution_count": 8,
   "metadata": {},
   "outputs": [
    {
     "name": "stdout",
     "output_type": "stream",
     "text": [
      "Give me two numbers and I'll add them.\n",
      "\n",
      "Enter first number: 4\n",
      "Enter second number: y\n",
      "Sorry, that's not a valid value.\n"
     ]
    }
   ],
   "source": [
    "prompt = \"Give me two numbers and I'll add them.\"\n",
    "print(prompt)\n",
    "\n",
    "try:\n",
    "    num1 = float(input(\"\\nEnter first number: \"))\n",
    "    num2 = float(input(\"Enter second number: \"))\n",
    "except ValueError:\n",
    "    print(\"Sorry, that's not a valid value.\")\n",
    "else:\n",
    "    result = num1 + num2\n",
    "    print(str(num1) + \" + \" + str(num2) + \" = \" + str(result))\n"
   ]
  },
  {
   "cell_type": "markdown",
   "metadata": {},
   "source": [
    "# 10-7 Addition calculator"
   ]
  },
  {
   "cell_type": "code",
   "execution_count": 12,
   "metadata": {},
   "outputs": [
    {
     "name": "stdout",
     "output_type": "stream",
     "text": [
      "Give me two numbers and I'll add them.(Enter 'q' to quit.) \n",
      "\n",
      "Enter first number: 2\n",
      "Enter second number: 6.7\n",
      "2.0 + 6.7 = 8.7\n",
      "\n",
      "Enter first number: 7\n",
      "Enter second number: 9\n",
      "7.0 + 9.0 = 16.0\n",
      "\n",
      "Enter first number: i\n",
      "Sorry, that's not a valid value.\n",
      "\n",
      "Enter first number: o\n",
      "Sorry, that's not a valid value.\n",
      "\n",
      "Enter first number: 9\n",
      "Enter second number: o\n",
      "Sorry, that's not a valid value.\n",
      "\n",
      "Enter first number: q\n"
     ]
    }
   ],
   "source": [
    "prompt = \"Give me two numbers and I'll add them.\"\n",
    "prompt += \"(Enter 'q' to quit.) \"\n",
    "print(prompt)\n",
    "\n",
    "while True:\n",
    "    \n",
    "    num1 = input(\"\\nEnter first number: \")\n",
    "    if num1 == 'q':\n",
    "        break\n",
    "    else:\n",
    "        try:\n",
    "            num1 = float(num1)\n",
    "        except ValueError:\n",
    "            print(\"Sorry, that's not a valid value.\")\n",
    "        else:\n",
    "            num2 = input(\"Enter second number: \")\n",
    "            if num2 == 'q':\n",
    "                break\n",
    "            else:\n",
    "                try:\n",
    "                    num2 = float(num2)\n",
    "                except ValueError:\n",
    "                    print(\"Sorry, that's not a valid value.\")\n",
    "                else:\n",
    "                    print(str(num1) + \" + \" + str(num2) + \" = \" + str(num1 + num2))\n",
    "            \n",
    "        \n"
   ]
  },
  {
   "cell_type": "markdown",
   "metadata": {},
   "source": [
    "# 10-8 Cats and dogs"
   ]
  },
  {
   "cell_type": "code",
   "execution_count": 15,
   "metadata": {},
   "outputs": [
    {
     "name": "stdout",
     "output_type": "stream",
     "text": [
      "Tom\n",
      "Puss\n",
      "Maurice\n",
      "The file dogs.txt cannot be found.\n"
     ]
    }
   ],
   "source": [
    "filename = 'cats.txt'\n",
    "\n",
    "with open(filename, 'w') as f_obj:\n",
    "    f_obj.write(\"Tom\\n\")\n",
    "    f_obj.write(\"Puss\\n\")\n",
    "    f_obj.write(\"Maurice\\n\")\n",
    "    \n",
    "# filename = 'dogs.txt'\n",
    "\n",
    "# with open(filename, 'w') as f_obj:\n",
    "#     f_obj.write(\"Scooby\\n\")\n",
    "#     f_obj.write(\"Browny\\n\")\n",
    "#     f_obj.write(\"Beethoven\\n\")\n",
    "    \n",
    "def pet_names(filename):\n",
    "    \n",
    "    try:\n",
    "        with open(filename) as f_obj:\n",
    "            names = f_obj.readlines()\n",
    "    except FileNotFoundError:\n",
    "        print(\"The file \" + filename + \" cannot be found.\")\n",
    "    else:\n",
    "        for name in names:\n",
    "            print(name.strip())\n",
    "            \n",
    "files = ['cats.txt', 'dogs.txt']\n",
    "for file in files:\n",
    "    pet_names(file)"
   ]
  },
  {
   "cell_type": "markdown",
   "metadata": {},
   "source": [
    "# 10-9 Silent cats and dogs"
   ]
  },
  {
   "cell_type": "code",
   "execution_count": 16,
   "metadata": {},
   "outputs": [
    {
     "name": "stdout",
     "output_type": "stream",
     "text": [
      "Tom\n",
      "Puss\n",
      "Maurice\n"
     ]
    }
   ],
   "source": [
    "def pet_names(filename):\n",
    "    \n",
    "    try:\n",
    "        with open(filename) as f_obj:\n",
    "            names = f_obj.readlines()\n",
    "    except FileNotFoundError:\n",
    "        pass #print(\"The file \" + filename + \" cannot be found.\")\n",
    "    else:\n",
    "        for name in names:\n",
    "            print(name.strip())\n",
    "            \n",
    "files = ['cats.txt', 'dogs.txt']\n",
    "for file in files:\n",
    "    pet_names(file)"
   ]
  },
  {
   "cell_type": "markdown",
   "metadata": {},
   "source": [
    "# 10-10 Common words"
   ]
  },
  {
   "cell_type": "code",
   "execution_count": 19,
   "metadata": {},
   "outputs": [
    {
     "name": "stdout",
     "output_type": "stream",
     "text": [
      "2\n",
      "3\n"
     ]
    }
   ],
   "source": [
    "line = \"Row, row, row your boat\"\n",
    "print(line.count('row'))\n",
    "print(line.lower().count('row'))"
   ]
  },
  {
   "cell_type": "code",
   "execution_count": 27,
   "metadata": {},
   "outputs": [
    {
     "name": "stdout",
     "output_type": "stream",
     "text": [
      "['alice.txt', 'pcc-master/chapter_10/siddhartha.txt', 'pcc-master/chapter_10/moby_dick.txt', 'pcc-master/chapter_10/little_women.txt', 'pcc-master/chapter_10/pride_and_prejudice.txt']\n",
      "The word, 'and', appears about 1577 times in the text, pcc-master/chapter_10/siddhartha.txt.\n",
      "The word, 'and', appears about 7985 times in the text, pcc-master/chapter_10/moby_dick.txt.\n",
      "The word, 'and', appears about 8953 times in the text, pcc-master/chapter_10/little_women.txt.\n",
      "The word, 'and', appears about 3966 times in the text, pcc-master/chapter_10/pride_and_prejudice.txt.\n"
     ]
    }
   ],
   "source": [
    "def count_the_word(filename, word = 'the'):\n",
    "    try:\n",
    "        with open(filename) as f_obj:\n",
    "            contents = f_obj.read()\n",
    "    except FileNotFoundError:\n",
    "        pass #print(\"The file \" + filename + \" cannot be found.\")\n",
    "    else:\n",
    "        word_num = contents.lower().count(word)\n",
    "        print(\"The word, '\" + word + \"', appears about \" + str(word_num) + \" times in the text, \" + filename + \".\")\n",
    "\n",
    "filenames = ['alice.txt', 'siddhartha.txt', 'moby_dick.txt', 'little_women.txt', 'pride_and_prejudice.txt']\n",
    "filenames2 = ['alice.txt']\n",
    "for filename in filenames[1:]:\n",
    "    filenames2.append('pcc-master/chapter_10/'+filename)\n",
    "print(filenames2)\n",
    "for filename in filenames2:\n",
    "    count_the_word(filename, 'and')\n",
    "\n"
   ]
  },
  {
   "cell_type": "markdown",
   "metadata": {},
   "source": [
    "# 10-11 Favorite number"
   ]
  },
  {
   "cell_type": "code",
   "execution_count": 1,
   "metadata": {},
   "outputs": [
    {
     "name": "stdout",
     "output_type": "stream",
     "text": [
      "What's your favorite number? 37\n",
      "I know your favorite number! It's 37.\n"
     ]
    }
   ],
   "source": [
    "import json\n",
    "\n",
    "filename = 'favorite_number.json'\n",
    "\n",
    "fave_num = input(\"What's your favorite number? \")\n",
    "\n",
    "with open(filename, 'w') as f_obj:\n",
    "    json.dump(fave_num, f_obj)\n",
    "    \n",
    "with open(filename) as f_obj:\n",
    "    fav_no = json.load(f_obj)\n",
    "    print(\"I know your favorite number! It's \" + str(fav_no) + \".\")"
   ]
  },
  {
   "cell_type": "markdown",
   "metadata": {},
   "source": [
    "# 10-12 Favorite number remembered"
   ]
  },
  {
   "cell_type": "code",
   "execution_count": 4,
   "metadata": {},
   "outputs": [
    {
     "name": "stdout",
     "output_type": "stream",
     "text": [
      "Your favorite number is 37.\n"
     ]
    }
   ],
   "source": [
    "import json\n",
    "\n",
    "filename = 'favorite_number.json'\n",
    "\n",
    "def get_favorite_num():\n",
    "    \"\"\"Get stored number if available.\"\"\"\n",
    "    try:\n",
    "        with open(filename) as f_obj:\n",
    "            favorite_number = json.load(f_obj)\n",
    "    except FileNotFoundError:\n",
    "        return None\n",
    "    else:\n",
    "        return favorite_number\n",
    "    \n",
    "def get_new_favorite_num():\n",
    "    \"\"\"Prompt for a number\"\"\"\n",
    "    favorite_num = input(\"What is your favorite number? \")\n",
    "    with open(filename, 'w') as f_obj:\n",
    "        json.dump(favorite_num, f_obj)\n",
    "    return favorite_num\n",
    "\n",
    "def report_fave_num():\n",
    "    fave_num = get_favorite_num()\n",
    "    if fave_num:\n",
    "        print(\"Your favorite number is \" + str(fave_num) + \".\")\n",
    "    else:\n",
    "        fave_num = get_new_favorite_num()\n",
    "        print(\"We'll remember your favorite number, \" + str(fave_num) + \".\")\n",
    "        \n",
    "report_fave_num()\n",
    "        \n",
    "    "
   ]
  },
  {
   "cell_type": "markdown",
   "metadata": {},
   "source": [
    "# 10-13 Verify user"
   ]
  },
  {
   "cell_type": "code",
   "execution_count": 10,
   "metadata": {},
   "outputs": [
    {
     "name": "stdout",
     "output_type": "stream",
     "text": [
      "Are you mona?(y/n) y\n",
      "Welcome back, mona!\n"
     ]
    }
   ],
   "source": [
    "import json\n",
    "\n",
    "def get_stored_username():\n",
    "    \"\"\"Get stored username if available.\"\"\"\n",
    "    filename = 'username.json'\n",
    "    try:\n",
    "        with open(filename) as f_obj:\n",
    "            username = json.load(f_obj)\n",
    "    except FileNotFoundError:\n",
    "        return None\n",
    "    else:\n",
    "        return username\n",
    "\n",
    "def get_new_username():\n",
    "    \"\"\"Prompt for a new username.\"\"\"\n",
    "    filename = 'username.json'\n",
    "    username = input(\"What is your name? \")\n",
    "    with open(filename, 'w') as f_obj:\n",
    "        json.dump(username, f_obj)\n",
    "    return username\n",
    "\n",
    "def greet_user():\n",
    "    \"\"\"Greet the user by name.\"\"\"\n",
    "\n",
    "    stored_username = get_stored_username()\n",
    "\n",
    "    if stored_username:\n",
    "        new_or_old = input(\"Are you \" + stored_username + \"?(y/n) \")\n",
    "        if new_or_old == 'y':\n",
    "            print(\"Welcome back, \" + stored_username + \"!\")\n",
    "        else:\n",
    "            username = get_new_username()\n",
    "            print(\"We'll remember you when you come back, \" + username + \"!\")\n",
    "    else:\n",
    "        username = get_new_username()\n",
    "        print(\"We'll remember you when you come back, \" + username + \"!\")\n",
    "        \n",
    "greet_user()\n",
    "\n"
   ]
  },
  {
   "cell_type": "code",
   "execution_count": null,
   "metadata": {},
   "outputs": [],
   "source": []
  }
 ],
 "metadata": {
  "kernelspec": {
   "display_name": "Python 3",
   "language": "python",
   "name": "python3"
  },
  "language_info": {
   "codemirror_mode": {
    "name": "ipython",
    "version": 3
   },
   "file_extension": ".py",
   "mimetype": "text/x-python",
   "name": "python",
   "nbconvert_exporter": "python",
   "pygments_lexer": "ipython3",
   "version": "3.7.4"
  }
 },
 "nbformat": 4,
 "nbformat_minor": 2
}
