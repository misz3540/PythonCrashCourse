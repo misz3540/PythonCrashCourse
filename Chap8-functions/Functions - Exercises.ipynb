{
 "cells": [
  {
   "cell_type": "markdown",
   "metadata": {},
   "source": [
    "# 8-1 Message"
   ]
  },
  {
   "cell_type": "code",
   "execution_count": 1,
   "metadata": {},
   "outputs": [
    {
     "name": "stdout",
     "output_type": "stream",
     "text": [
      "We are learning how to create functions in Python!\n"
     ]
    }
   ],
   "source": [
    "def display_message():\n",
    "    print(\"We are learning how to create functions in Python!\")\n",
    "    \n",
    "display_message()"
   ]
  },
  {
   "cell_type": "markdown",
   "metadata": {},
   "source": [
    "# 8-2 Favorite book"
   ]
  },
  {
   "cell_type": "code",
   "execution_count": 2,
   "metadata": {},
   "outputs": [
    {
     "name": "stdout",
     "output_type": "stream",
     "text": [
      "One of my favorite books is Pride And Prejudice.\n"
     ]
    }
   ],
   "source": [
    "def favorite_book(book_title):\n",
    "    print(\"One of my favorite books is \" + book_title.title() + \".\")\n",
    "    \n",
    "favorite_book('pride and prejudice')"
   ]
  },
  {
   "cell_type": "markdown",
   "metadata": {},
   "source": [
    "# 8-3 T-Shirt"
   ]
  },
  {
   "cell_type": "code",
   "execution_count": 1,
   "metadata": {},
   "outputs": [
    {
     "name": "stdout",
     "output_type": "stream",
     "text": [
      "Making a t-shirt size M with message: \n",
      "' You're beautiful!'.\n"
     ]
    }
   ],
   "source": [
    "def make_shirt(size, message):\n",
    "    print(\"Making a t-shirt size \" + size + \" with message: \\n' \" + message + \"'.\")\n",
    "    \n",
    "make_shirt('M', \"You're beautiful!\")"
   ]
  },
  {
   "cell_type": "code",
   "execution_count": 2,
   "metadata": {},
   "outputs": [
    {
     "name": "stdout",
     "output_type": "stream",
     "text": [
      "Making a t-shirt size M with message: \n",
      "' You're beautiful!'.\n"
     ]
    }
   ],
   "source": [
    "make_shirt(message=\"You're beautiful!\", size = \"M\")"
   ]
  },
  {
   "cell_type": "markdown",
   "metadata": {},
   "source": [
    "# 8-4 Large shirts"
   ]
  },
  {
   "cell_type": "code",
   "execution_count": 7,
   "metadata": {},
   "outputs": [],
   "source": [
    "def make_shirt(message = \"I love Python.\", size ='L'):\n",
    "    print(\"Making a t-shirt size \" + size + \" with message: \\n' \" + message + \"'.\")"
   ]
  },
  {
   "cell_type": "code",
   "execution_count": 8,
   "metadata": {},
   "outputs": [
    {
     "name": "stdout",
     "output_type": "stream",
     "text": [
      "Making a t-shirt size L with message: \n",
      "' I love Python.'.\n"
     ]
    }
   ],
   "source": [
    "make_shirt()"
   ]
  },
  {
   "cell_type": "code",
   "execution_count": 10,
   "metadata": {},
   "outputs": [
    {
     "name": "stdout",
     "output_type": "stream",
     "text": [
      "Making a t-shirt size M with message: \n",
      "' I love Python.'.\n"
     ]
    }
   ],
   "source": [
    "make_shirt(size = 'M')"
   ]
  },
  {
   "cell_type": "code",
   "execution_count": 11,
   "metadata": {},
   "outputs": [
    {
     "name": "stdout",
     "output_type": "stream",
     "text": [
      "Making a t-shirt size M with message: \n",
      "' I love Python.'.\n"
     ]
    }
   ],
   "source": [
    "make_shirt(\"I love Python.\", size = 'M')"
   ]
  },
  {
   "cell_type": "code",
   "execution_count": 12,
   "metadata": {},
   "outputs": [
    {
     "name": "stdout",
     "output_type": "stream",
     "text": [
      "Making a t-shirt size S with message: \n",
      "' You're loved!'.\n"
     ]
    }
   ],
   "source": [
    "make_shirt(size = 'S', message = \"You're loved!\")"
   ]
  },
  {
   "cell_type": "markdown",
   "metadata": {},
   "source": [
    "# 8-5 Cities"
   ]
  },
  {
   "cell_type": "code",
   "execution_count": 14,
   "metadata": {},
   "outputs": [],
   "source": [
    "def describe_city(city, country):\n",
    "    print(city.title() + \" is in \" + country.title() + \".\")"
   ]
  },
  {
   "cell_type": "code",
   "execution_count": 16,
   "metadata": {},
   "outputs": [
    {
     "name": "stdout",
     "output_type": "stream",
     "text": [
      "Cebu is in The Philippines.\n"
     ]
    }
   ],
   "source": [
    "describe_city('cebu', 'the Philippines')"
   ]
  },
  {
   "cell_type": "code",
   "execution_count": 17,
   "metadata": {},
   "outputs": [],
   "source": [
    "def describe_city(city, country ='Italy'):\n",
    "    print(city.title() + \" is in \" + country.title() + \".\")"
   ]
  },
  {
   "cell_type": "code",
   "execution_count": 19,
   "metadata": {},
   "outputs": [
    {
     "name": "stdout",
     "output_type": "stream",
     "text": [
      "Rome is in Italy.\n"
     ]
    }
   ],
   "source": [
    "describe_city('Rome')"
   ]
  },
  {
   "cell_type": "code",
   "execution_count": 20,
   "metadata": {},
   "outputs": [
    {
     "name": "stdout",
     "output_type": "stream",
     "text": [
      "Venice is in Italy.\n"
     ]
    }
   ],
   "source": [
    "describe_city('Venice')"
   ]
  },
  {
   "cell_type": "code",
   "execution_count": 23,
   "metadata": {},
   "outputs": [
    {
     "name": "stdout",
     "output_type": "stream",
     "text": [
      "Boulder is in United States.\n"
     ]
    }
   ],
   "source": [
    "describe_city('Boulder', country ='United States')"
   ]
  },
  {
   "cell_type": "markdown",
   "metadata": {},
   "source": [
    "# 8-6 City names"
   ]
  },
  {
   "cell_type": "code",
   "execution_count": 6,
   "metadata": {},
   "outputs": [
    {
     "name": "stdout",
     "output_type": "stream",
     "text": [
      "\"Munich, Germany\"\n"
     ]
    }
   ],
   "source": [
    "def city_country(city, country):\n",
    "    place = '\"' + city.title() + \", \" + country.title() + '\"'\n",
    "    return place\n",
    "\n",
    "spot = city_country('Munich', 'germany')\n",
    "print(spot)"
   ]
  },
  {
   "cell_type": "code",
   "execution_count": 7,
   "metadata": {},
   "outputs": [
    {
     "name": "stdout",
     "output_type": "stream",
     "text": [
      "\"Santiago, Chile\"\n"
     ]
    }
   ],
   "source": [
    "spot = city_country('santiago', 'chile')\n",
    "print(spot)"
   ]
  },
  {
   "cell_type": "code",
   "execution_count": 8,
   "metadata": {},
   "outputs": [
    {
     "name": "stdout",
     "output_type": "stream",
     "text": [
      "\"Kyoto, Japan\"\n"
     ]
    }
   ],
   "source": [
    "spot = city_country('Kyoto', 'japan')\n",
    "print(spot)"
   ]
  },
  {
   "cell_type": "markdown",
   "metadata": {},
   "source": [
    "# 8-7 Album"
   ]
  },
  {
   "cell_type": "code",
   "execution_count": 10,
   "metadata": {},
   "outputs": [
    {
     "name": "stdout",
     "output_type": "stream",
     "text": [
      "{'artist': 'Dan Dan', 'album': 'White Eagle'}\n"
     ]
    }
   ],
   "source": [
    "def make_album(artist_name, album_title):\n",
    "    album = {'artist': artist_name.title(), 'album': album_title.title()}\n",
    "    return album\n",
    "album1 = make_album('Dan dan', 'White eagle')\n",
    "print(album1)"
   ]
  },
  {
   "cell_type": "code",
   "execution_count": 12,
   "metadata": {},
   "outputs": [
    {
     "name": "stdout",
     "output_type": "stream",
     "text": [
      "{'artist': 'Brooklyn Duo', 'album': 'Adele Cover'}\n"
     ]
    }
   ],
   "source": [
    "album2 = make_album('brooklyn duo', 'adele cover')\n",
    "print(album2)"
   ]
  },
  {
   "cell_type": "code",
   "execution_count": 13,
   "metadata": {},
   "outputs": [],
   "source": [
    "def make_album(artist_name, album_title, tracks =''):\n",
    "    album = {'artist': artist_name.title(), 'album': album_title.title()}\n",
    "    if tracks:\n",
    "        album['number of tracks'] = tracks\n",
    "    return album"
   ]
  },
  {
   "cell_type": "code",
   "execution_count": 14,
   "metadata": {},
   "outputs": [
    {
     "name": "stdout",
     "output_type": "stream",
     "text": [
      "{'artist': 'Dan Stevens', 'album': 'White Eagle', 'number of tracks': 9}\n"
     ]
    }
   ],
   "source": [
    "album3 = make_album('Dan stevens', 'White eagle', 9)\n",
    "print(album3)"
   ]
  },
  {
   "cell_type": "code",
   "execution_count": 15,
   "metadata": {},
   "outputs": [
    {
     "name": "stdout",
     "output_type": "stream",
     "text": [
      "{'artist': 'Dan Dan', 'album': 'White Eagle'}\n"
     ]
    }
   ],
   "source": [
    "album1 = make_album('Dan dan', 'White eagle')\n",
    "print(album1)"
   ]
  },
  {
   "cell_type": "markdown",
   "metadata": {},
   "source": [
    "# 8-8 User albums"
   ]
  },
  {
   "cell_type": "code",
   "execution_count": null,
   "metadata": {},
   "outputs": [
    {
     "name": "stdout",
     "output_type": "stream",
     "text": [
      "\n",
      "Let's create an album: \n",
      "(Enter 'q' to quit.)\n",
      "Artist name: Shaggy\n",
      "Album name: Woof woof\n",
      "\n",
      "\n",
      "{'artist': 'Shaggy', 'album': 'Woof Woof'}\n",
      "\n",
      "Let's create an album: \n",
      "(Enter 'q' to quit.)\n",
      "Artist name: q\n"
     ]
    }
   ],
   "source": [
    "def make_album(artist_name, album_title, tracks =''):\n",
    "    album = {'artist': artist_name.title(), 'album': album_title.title()}\n",
    "    if tracks:\n",
    "        album['number of tracks'] = tracks\n",
    "    return album\n",
    "\n",
    "while True:\n",
    "    print(\"\\nLet's create an album: \\n(Enter 'q' to quit.)\")\n",
    "    artist = input('Artist name: ')\n",
    "    if artist == 'q':\n",
    "        break\n",
    "        \n",
    "    album = input('Album name: ')\n",
    "    if album == 'q':\n",
    "        break\n",
    "    \n",
    "    print(\"\\n\")\n",
    "    print(make_album(artist, album))"
   ]
  },
  {
   "cell_type": "markdown",
   "metadata": {},
   "source": [
    "# 8-9 Magicians"
   ]
  },
  {
   "cell_type": "code",
   "execution_count": 2,
   "metadata": {},
   "outputs": [
    {
     "name": "stdout",
     "output_type": "stream",
     "text": [
      "David Copperfield\n",
      "Quentin Coldwater\n",
      "David Blaine\n",
      "Harry Houdini\n"
     ]
    }
   ],
   "source": [
    "def show_magicians(magicians):\n",
    "    for magician in magicians:\n",
    "        print(magician.title())\n",
    "        \n",
    "magicians = ['david copperfield', 'quentin coldwater', 'david blaine', 'harry houdini']\n",
    "show_magicians(magicians)"
   ]
  },
  {
   "cell_type": "markdown",
   "metadata": {},
   "source": [
    "# 8-10 Great magicians"
   ]
  },
  {
   "cell_type": "code",
   "execution_count": 7,
   "metadata": {},
   "outputs": [
    {
     "name": "stdout",
     "output_type": "stream",
     "text": [
      "The Great Harry Houdini\n",
      "The Great David Blaine\n",
      "The Great Quentin Coldwater\n",
      "The Great David Copperfield\n"
     ]
    }
   ],
   "source": [
    "def make_great(magicians):\n",
    "    great_list = []\n",
    "    while magicians:\n",
    "        magician = magicians.pop()\n",
    "        great_list.append('the Great ' + magician)\n",
    "    magicians = great_list\n",
    "    return magicians\n",
    "        \n",
    "def show_magicians(magicians):\n",
    "    for magician in magicians:\n",
    "        print(magician.title())\n",
    "        \n",
    "magicians = ['david copperfield', 'quentin coldwater', 'david blaine', 'harry houdini']\n",
    "\n",
    "show_magicians(make_great(magicians))\n",
    "        \n"
   ]
  },
  {
   "cell_type": "markdown",
   "metadata": {},
   "source": [
    "# 8-11 Unchanged magicians"
   ]
  },
  {
   "cell_type": "code",
   "execution_count": 8,
   "metadata": {},
   "outputs": [
    {
     "name": "stdout",
     "output_type": "stream",
     "text": [
      "The Great Harry Houdini\n",
      "The Great David Blaine\n",
      "The Great Quentin Coldwater\n",
      "The Great David Copperfield\n",
      "David Copperfield\n",
      "Quentin Coldwater\n",
      "David Blaine\n",
      "Harry Houdini\n"
     ]
    }
   ],
   "source": [
    "def make_great(magicians):\n",
    "    great_list = []\n",
    "    while magicians:\n",
    "        magician = magicians.pop()\n",
    "        great_list.append('the Great ' + magician)\n",
    "    magicians = great_list\n",
    "    return magicians\n",
    "        \n",
    "def show_magicians(magicians):\n",
    "    for magician in magicians:\n",
    "        print(magician.title())\n",
    "        \n",
    "magicians = ['david copperfield', 'quentin coldwater', 'david blaine', 'harry houdini']\n",
    "\n",
    "show_magicians(make_great(magicians[:]))\n",
    "show_magicians(magicians)"
   ]
  },
  {
   "cell_type": "markdown",
   "metadata": {},
   "source": [
    "# 8-12 Sandwiches"
   ]
  },
  {
   "cell_type": "code",
   "execution_count": 1,
   "metadata": {},
   "outputs": [],
   "source": [
    "def make_sandwich(*fillings):\n",
    "    print(\"\\nMaking sandwich with the following items: \")\n",
    "    for item in fillings:\n",
    "        print(\" -\" + item)"
   ]
  },
  {
   "cell_type": "code",
   "execution_count": 5,
   "metadata": {},
   "outputs": [
    {
     "name": "stdout",
     "output_type": "stream",
     "text": [
      "\n",
      "Making sandwich with the following items: \n",
      " -ham\n",
      "\n",
      "Making sandwich with the following items: \n",
      " -ham\n",
      " -cheese\n",
      " -lettuce\n",
      " -tomatoes\n",
      "\n",
      "Making sandwich with the following items: \n",
      " -tuna\n",
      " -cucumbers\n"
     ]
    }
   ],
   "source": [
    "make_sandwich('ham')\n",
    "make_sandwich('ham', 'cheese', 'lettuce', 'tomatoes')\n",
    "make_sandwich('tuna', 'cucumbers')"
   ]
  },
  {
   "cell_type": "markdown",
   "metadata": {},
   "source": [
    "# 8-13 User profile"
   ]
  },
  {
   "cell_type": "code",
   "execution_count": 7,
   "metadata": {},
   "outputs": [
    {
     "name": "stdout",
     "output_type": "stream",
     "text": [
      "{'first_name': 'Mich', 'last_name': 'S', 'favorite_color': 'apple green', 'fav_number': 37, 'loves': 'food'}\n"
     ]
    }
   ],
   "source": [
    "def make_profile(first, last, **user_info):\n",
    "    profile = {}\n",
    "    profile['first_name'] = first\n",
    "    profile['last_name'] = last\n",
    "    for key, value in user_info.items():\n",
    "        profile[key] = value\n",
    "    return profile\n",
    "\n",
    "my_profile = make_profile('Mich', 'S', favorite_color = 'apple green', fav_number = 37, loves = 'food')\n",
    "print(my_profile)"
   ]
  },
  {
   "cell_type": "markdown",
   "metadata": {},
   "source": [
    "# 8-14 Cars"
   ]
  },
  {
   "cell_type": "code",
   "execution_count": 8,
   "metadata": {},
   "outputs": [
    {
     "name": "stdout",
     "output_type": "stream",
     "text": [
      "{'make': 'subaru', 'model': 'outback', 'year': 2015, 'color': 'orange', 'gps': True}\n"
     ]
    }
   ],
   "source": [
    "def make_car(make, model, **features):\n",
    "    profile = {}\n",
    "    profile['make'] = make\n",
    "    profile['model'] = model\n",
    "    for key, value in features.items():\n",
    "        profile[key] = value\n",
    "    return profile\n",
    "\n",
    "car = make_car('subaru', 'outback', year = 2015, color = 'orange', gps = True)\n",
    "print(car)"
   ]
  },
  {
   "cell_type": "markdown",
   "metadata": {},
   "source": [
    "# 8-15 Printing models"
   ]
  },
  {
   "cell_type": "code",
   "execution_count": 1,
   "metadata": {},
   "outputs": [
    {
     "name": "stdout",
     "output_type": "stream",
     "text": [
      "Printing model: dodecahedron\n",
      "Printing model: robot pendant\n",
      "Printing model: iphone case\n",
      "\n",
      "The following models have been printed: \n",
      "dodecahedron\n",
      "robot pendant\n",
      "iphone case\n"
     ]
    }
   ],
   "source": [
    "import printing_functions as pf\n",
    "\n",
    "unprinted_designs = ['iphone case', 'robot pendant', 'dodecahedron']\n",
    "completed_models = []\n",
    "\n",
    "pf.print_models(unprinted_designs, completed_models)\n",
    "pf.show_completed_models(completed_models)"
   ]
  },
  {
   "cell_type": "markdown",
   "metadata": {},
   "source": [
    "# 8-16 Imports"
   ]
  },
  {
   "cell_type": "code",
   "execution_count": 2,
   "metadata": {},
   "outputs": [
    {
     "name": "stdout",
     "output_type": "stream",
     "text": [
      "David Copperfield\n",
      "Quentin Coldwater\n",
      "David Blaine\n",
      "Harry Houdini\n"
     ]
    }
   ],
   "source": [
    "import cite_magicians\n",
    "\n",
    "magicians = ['david copperfield', 'quentin coldwater', 'david blaine', 'harry houdini']\n",
    "\n",
    "cite_magicians.show_magicians(magicians)\n",
    "# show_magicians(make_great(magicians))"
   ]
  },
  {
   "cell_type": "code",
   "execution_count": 3,
   "metadata": {},
   "outputs": [
    {
     "name": "stdout",
     "output_type": "stream",
     "text": [
      "The Great Harry Houdini\n",
      "The Great David Blaine\n",
      "The Great Quentin Coldwater\n",
      "The Great David Copperfield\n"
     ]
    }
   ],
   "source": [
    "from cite_magicians import show_magicians, make_great\n",
    "\n",
    "magicians = ['david copperfield', 'quentin coldwater', 'david blaine', 'harry houdini']\n",
    "\n",
    "show_magicians(make_great(magicians))"
   ]
  },
  {
   "cell_type": "code",
   "execution_count": 4,
   "metadata": {},
   "outputs": [
    {
     "name": "stdout",
     "output_type": "stream",
     "text": [
      "David Copperfield\n",
      "Quentin Coldwater\n",
      "David Blaine\n",
      "Harry Houdini\n"
     ]
    }
   ],
   "source": [
    "from cite_magicians import show_magicians as sm\n",
    "\n",
    "magicians = ['david copperfield', 'quentin coldwater', 'david blaine', 'harry houdini']\n",
    "\n",
    "sm(magicians)"
   ]
  },
  {
   "cell_type": "code",
   "execution_count": 6,
   "metadata": {},
   "outputs": [
    {
     "name": "stdout",
     "output_type": "stream",
     "text": [
      "The Great Harry Houdini\n",
      "The Great David Blaine\n",
      "The Great Quentin Coldwater\n",
      "The Great David Copperfield\n"
     ]
    }
   ],
   "source": [
    "import cite_magicians as cm\n",
    "\n",
    "magicians = ['david copperfield', 'quentin coldwater', 'david blaine', 'harry houdini']\n",
    "\n",
    "cm.show_magicians(cm.make_great(magicians))"
   ]
  },
  {
   "cell_type": "code",
   "execution_count": 7,
   "metadata": {},
   "outputs": [
    {
     "name": "stdout",
     "output_type": "stream",
     "text": [
      "The Great Harry Houdini\n",
      "The Great David Blaine\n",
      "The Great Quentin Coldwater\n",
      "The Great David Copperfield\n"
     ]
    }
   ],
   "source": [
    "from cite_magicians import *\n",
    "\n",
    "magicians = ['david copperfield', 'quentin coldwater', 'david blaine', 'harry houdini']\n",
    "\n",
    "show_magicians(make_great(magicians))"
   ]
  },
  {
   "cell_type": "code",
   "execution_count": null,
   "metadata": {},
   "outputs": [],
   "source": []
  }
 ],
 "metadata": {
  "kernelspec": {
   "display_name": "Python 3",
   "language": "python",
   "name": "python3"
  },
  "language_info": {
   "codemirror_mode": {
    "name": "ipython",
    "version": 3
   },
   "file_extension": ".py",
   "mimetype": "text/x-python",
   "name": "python",
   "nbconvert_exporter": "python",
   "pygments_lexer": "ipython3",
   "version": "3.7.4"
  }
 },
 "nbformat": 4,
 "nbformat_minor": 2
}
