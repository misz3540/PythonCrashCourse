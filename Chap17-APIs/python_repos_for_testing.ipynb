{
 "cells": [
  {
   "cell_type": "code",
   "execution_count": 1,
   "metadata": {},
   "outputs": [],
   "source": [
    "import requests\n",
    "import pygal\n",
    "from pygal.style import LightColorizedStyle as LCS, LightenStyle as LS\n",
    "\n",
    "def get_response():\n",
    "    \"\"\"Make an api call, and return the response.\"\"\"\n",
    "    url = 'https://api.github.com/search/repositories?q=language:python&sort=stars'\n",
    "    r = requests.get(url)\n",
    "    return r\n",
    "\n",
    "def get_repo_dicts(response):\n",
    "    \"\"\"Return a set of dicts representing the most popular repositories.\"\"\"\n",
    "    response_dict = r.json()\n",
    "    repo_dicts = response_dict['items']\n",
    "    return repo_dicts\n",
    "\n",
    "def get_names_plot_dicts(repo_dicts):\n",
    "    \"\"\"Process the set of repository dicts, and pull out data for plotting.\"\"\"\n",
    "    names, plot_dicts = [], []\n",
    "    for repo_dict in repo_dicts:\n",
    "        names.append(repo_dict['name'])\n",
    "\n",
    "        # Some projects lack a description, which causes an error when \n",
    "        #  labeling bars. Specify a label if there's no description.\n",
    "        description = repo_dict['description']\n",
    "        if not description:\n",
    "            description = \"No description provided.\"\n",
    "\n",
    "        plot_dict = {\n",
    "            'value': repo_dict['stargazers_count'],\n",
    "            'label': description,\n",
    "            'xlink': repo_dict['html_url'],\n",
    "            }\n",
    "        plot_dicts.append(plot_dict)\n",
    "    return names, plot_dicts\n",
    "\n",
    "def make_visualization(names, plot_dicts):\n",
    "    \"\"\"Make visualization of most popular repositories.\"\"\"\n",
    "    my_style = LS('#333366', base_style=LCS)\n",
    "    my_style.title_font_size = 24\n",
    "    my_style.label_font_size = 14\n",
    "    my_style.major_label_font_size = 18\n",
    "\n",
    "    my_config = pygal.Config()\n",
    "    my_config.x_label_rotation = 45\n",
    "    my_config.show_legend = False\n",
    "    my_config.truncate_label = 15\n",
    "    my_config.show_y_guides = False\n",
    "    my_config.width = 1000\n",
    "\n",
    "    chart = pygal.Bar(my_config, style=my_style)\n",
    "    chart.title = 'Most-Starred Python Projects on GitHub'\n",
    "    chart.x_labels = names\n",
    "\n",
    "    chart.add('', plot_dicts)\n",
    "    chart.render_to_file('python_repos.svg')\n",
    "\n",
    "\n",
    "r = get_response()\n",
    "repo_dicts = get_repo_dicts(r)\n",
    "names, plot_dicts = get_names_plot_dicts(repo_dicts)\n",
    "make_visualization(names, plot_dicts)"
   ]
  },
  {
   "cell_type": "code",
   "execution_count": 3,
   "metadata": {},
   "outputs": [],
   "source": [
    "# print(repo_dicts)"
   ]
  },
  {
   "cell_type": "code",
   "execution_count": null,
   "metadata": {},
   "outputs": [],
   "source": []
  }
 ],
 "metadata": {
  "kernelspec": {
   "display_name": "Python 3",
   "language": "python",
   "name": "python3"
  },
  "language_info": {
   "codemirror_mode": {
    "name": "ipython",
    "version": 3
   },
   "file_extension": ".py",
   "mimetype": "text/x-python",
   "name": "python",
   "nbconvert_exporter": "python",
   "pygments_lexer": "ipython3",
   "version": "3.7.4"
  }
 },
 "nbformat": 4,
 "nbformat_minor": 2
}
