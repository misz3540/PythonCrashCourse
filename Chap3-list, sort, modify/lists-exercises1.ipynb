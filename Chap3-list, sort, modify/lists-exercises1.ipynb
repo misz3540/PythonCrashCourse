{
 "cells": [
  {
   "cell_type": "markdown",
   "metadata": {},
   "source": [
    "# Exercise 1"
   ]
  },
  {
   "cell_type": "code",
   "execution_count": 6,
   "metadata": {},
   "outputs": [
    {
     "name": "stdout",
     "output_type": "stream",
     "text": [
      "jane\n",
      "REAH\n",
      "Dana\n",
      "Neena\n"
     ]
    }
   ],
   "source": [
    "friends = ['Jane', 'Reah', 'Dana', 'Neena', 'Winnie']\n",
    "print(friends[0].lower())\n",
    "print(friends[1].upper()+ \"\\n\"+ friends[2].title())\n",
    "print(friends[-2])"
   ]
  },
  {
   "cell_type": "code",
   "execution_count": 10,
   "metadata": {},
   "outputs": [
    {
     "name": "stdout",
     "output_type": "stream",
     "text": [
      "Have a great day, Jane!\n",
      "Have a great day, Reah!\n",
      "Have a great day, Dana!\n",
      "Have a great day, Neena!\n",
      "Have a great day, Winnie!\n"
     ]
    }
   ],
   "source": [
    "message = \"Have a great day, \"\n",
    "for i in range(len(friends)):\n",
    "        print(message + friends[i] + \"!\")\n",
    "# print(message + friends[0] + \"!\")"
   ]
  },
  {
   "cell_type": "code",
   "execution_count": 11,
   "metadata": {},
   "outputs": [
    {
     "name": "stdout",
     "output_type": "stream",
     "text": [
      "Have a great day, Jane!\n",
      "Have a great day, Reah!\n",
      "Have a great day, Dana!\n",
      "Have a great day, Neena!\n",
      "Have a great day, Winnie!\n"
     ]
    }
   ],
   "source": [
    "for friend in friends:\n",
    "    print(message + friend +\"!\")"
   ]
  },
  {
   "cell_type": "code",
   "execution_count": 12,
   "metadata": {},
   "outputs": [
    {
     "name": "stdout",
     "output_type": "stream",
     "text": [
      "Previous car: HondaCRV\n",
      "Previous car2: SubaruForester\n",
      "Future car: BMW\n"
     ]
    }
   ],
   "source": [
    "cars = ['HondaCRV', 'SubaruForester', 'BMW']\n",
    "print(\"Previous car: \" + cars[0])\n",
    "print(\"Previous car2: \" + cars[1])\n",
    "print(\"Future car: \" + cars[2])"
   ]
  },
  {
   "cell_type": "code",
   "execution_count": null,
   "metadata": {},
   "outputs": [],
   "source": []
  }
 ],
 "metadata": {
  "kernelspec": {
   "display_name": "Python 3",
   "language": "python",
   "name": "python3"
  },
  "language_info": {
   "codemirror_mode": {
    "name": "ipython",
    "version": 3
   },
   "file_extension": ".py",
   "mimetype": "text/x-python",
   "name": "python",
   "nbconvert_exporter": "python",
   "pygments_lexer": "ipython3",
   "version": "3.7.4"
  }
 },
 "nbformat": 4,
 "nbformat_minor": 2
}
