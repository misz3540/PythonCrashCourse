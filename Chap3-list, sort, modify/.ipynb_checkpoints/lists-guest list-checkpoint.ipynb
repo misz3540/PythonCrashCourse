{
 "cells": [
  {
   "cell_type": "markdown",
   "metadata": {},
   "source": [
    "# Guest list"
   ]
  },
  {
   "cell_type": "code",
   "execution_count": 11,
   "metadata": {},
   "outputs": [
    {
     "name": "stdout",
     "output_type": "stream",
     "text": [
      "Dear Mr. Feynman,\n",
      "\n",
      "I would be delighted to have you as my guest for tonight's dinner. I hope you could make it.\n",
      "\n",
      "Sincerely yours,\n",
      "MS\n",
      "\n",
      "\n",
      "Dear Mr. Einstein,\n",
      "\n",
      "I would be delighted to have you as my guest for tonight's dinner. I hope you could make it.\n",
      "\n",
      "Sincerely yours,\n",
      "MS\n",
      "\n",
      "\n",
      "Dear Mr. Dirac,\n",
      "\n",
      "I would be delighted to have you as my guest for tonight's dinner. I hope you could make it.\n",
      "\n",
      "Sincerely yours,\n",
      "MS\n",
      "\n",
      "\n",
      "Dear Mr. Schrodinger,\n",
      "\n",
      "I would be delighted to have you as my guest for tonight's dinner. I hope you could make it.\n",
      "\n",
      "Sincerely yours,\n",
      "MS\n",
      "\n",
      "\n",
      "Dear Mr. Heisenberg,\n",
      "\n",
      "I would be delighted to have you as my guest for tonight's dinner. I hope you could make it.\n",
      "\n",
      "Sincerely yours,\n",
      "MS\n",
      "\n",
      "\n"
     ]
    }
   ],
   "source": [
    "guests = ['Feynman', 'Einstein', 'Dirac', 'Schrodinger', 'Heisenberg']\n",
    "salutation = \"Dear Mr. \"\n",
    "message = \"I would be delighted to have you as my guest for tonight's dinner. I hope you could make it.\"\n",
    "endnote = \"Sincerely yours,\\nMS\"\n",
    "for guest in guests:\n",
    "    print(salutation + guest + \",\\n\\n\"+ message + \"\\n\\n\" + endnote + \"\\n\\n\")\n",
    "        \n",
    "\n"
   ]
  },
  {
   "cell_type": "code",
   "execution_count": 6,
   "metadata": {},
   "outputs": [
    {
     "name": "stdout",
     "output_type": "stream",
     "text": [
      "Dear Mr. Dirac,\n",
      "\n",
      "I would be delighted to have you as my guest for tonight's dinner. I hope you could make it.\n",
      "\n",
      "Sincerely yours,\n",
      "MS\n",
      "\n",
      "\n",
      "Dear Mr. Schrodinger,\n",
      "\n",
      "I would be delighted to have you as my guest for tonight's dinner. I hope you could make it.\n",
      "\n",
      "Sincerely yours,\n",
      "MS\n",
      "\n",
      "\n",
      "Dear Mr. Heisenberg,\n",
      "\n",
      "I would be delighted to have you as my guest for tonight's dinner. I hope you could make it.\n",
      "\n",
      "Sincerely yours,\n",
      "MS\n",
      "\n",
      "\n"
     ]
    }
   ],
   "source": [
    "for i in range(2,len(guests)):\n",
    "    print(salutation + guests[i] + \",\\n\\n\"+ message + \"\\n\\n\" + endnote + \"\\n\\n\")"
   ]
  },
  {
   "cell_type": "markdown",
   "metadata": {},
   "source": [
    "# Changing guest list"
   ]
  },
  {
   "cell_type": "code",
   "execution_count": 20,
   "metadata": {},
   "outputs": [
    {
     "name": "stdout",
     "output_type": "stream",
     "text": [
      "['Feynman', 'Einstein', 'Dirac', 'Schrodinger', 'Heisenberg']\n",
      "Mr. Einstein cannot make it to the dinner.\n"
     ]
    }
   ],
   "source": [
    "guests = ['Feynman', 'Einstein', 'Dirac', 'Schrodinger', 'Heisenberg']\n",
    "print(guests)\n",
    "absentee = 'Einstein'\n",
    "print(\"Mr. \" + absentee + \" cannot make it to the dinner.\")"
   ]
  },
  {
   "cell_type": "code",
   "execution_count": 24,
   "metadata": {},
   "outputs": [],
   "source": [
    "new_guest = 'DebbieJin'"
   ]
  },
  {
   "cell_type": "code",
   "execution_count": 23,
   "metadata": {},
   "outputs": [
    {
     "name": "stdout",
     "output_type": "stream",
     "text": [
      "['Feynman', 'Dirac', 'Schrodinger', 'Heisenberg']\n"
     ]
    }
   ],
   "source": [
    "guests = ['Feynman', 'Einstein', 'Dirac', 'Schrodinger', 'Heisenberg']\n",
    "del guests[1]\n",
    "print(guests)\n"
   ]
  },
  {
   "cell_type": "code",
   "execution_count": 30,
   "metadata": {},
   "outputs": [
    {
     "name": "stdout",
     "output_type": "stream",
     "text": [
      "['Feynman', 'Dirac', 'Schrodinger', 'Heisenberg']\n"
     ]
    }
   ],
   "source": [
    "guests = ['Feynman', 'Einstein', 'Dirac', 'Schrodinger', 'Heisenberg']\n",
    "guests.pop(1)\n",
    "print(guests)\n"
   ]
  },
  {
   "cell_type": "code",
   "execution_count": 31,
   "metadata": {},
   "outputs": [
    {
     "name": "stdout",
     "output_type": "stream",
     "text": [
      "['Feynman', 'DebbieJin', 'Dirac', 'Schrodinger', 'Heisenberg']\n"
     ]
    }
   ],
   "source": [
    "guests.insert(1,new_guest)\n",
    "print(guests)"
   ]
  },
  {
   "cell_type": "code",
   "execution_count": 32,
   "metadata": {},
   "outputs": [
    {
     "name": "stdout",
     "output_type": "stream",
     "text": [
      "Dear Mr. Feynman,\n",
      "\n",
      "I would be delighted to have you as my guest for tonight's dinner. I hope you could make it.\n",
      "\n",
      "Sincerely yours,\n",
      "MS\n",
      "\n",
      "\n",
      "Dear Mr. DebbieJin,\n",
      "\n",
      "I would be delighted to have you as my guest for tonight's dinner. I hope you could make it.\n",
      "\n",
      "Sincerely yours,\n",
      "MS\n",
      "\n",
      "\n",
      "Dear Mr. Dirac,\n",
      "\n",
      "I would be delighted to have you as my guest for tonight's dinner. I hope you could make it.\n",
      "\n",
      "Sincerely yours,\n",
      "MS\n",
      "\n",
      "\n",
      "Dear Mr. Schrodinger,\n",
      "\n",
      "I would be delighted to have you as my guest for tonight's dinner. I hope you could make it.\n",
      "\n",
      "Sincerely yours,\n",
      "MS\n",
      "\n",
      "\n",
      "Dear Mr. Heisenberg,\n",
      "\n",
      "I would be delighted to have you as my guest for tonight's dinner. I hope you could make it.\n",
      "\n",
      "Sincerely yours,\n",
      "MS\n",
      "\n",
      "\n"
     ]
    }
   ],
   "source": [
    "\n",
    "for i in range(len(guests)):\n",
    "    print(salutation + guests[i] + \",\\n\\n\"+ message + \"\\n\\n\" + endnote + \"\\n\\n\")"
   ]
  },
  {
   "cell_type": "markdown",
   "metadata": {},
   "source": [
    "# More guests"
   ]
  },
  {
   "cell_type": "code",
   "execution_count": 34,
   "metadata": {},
   "outputs": [
    {
     "name": "stdout",
     "output_type": "stream",
     "text": [
      "Dear Mr. Schrodinger,\n",
      "\n",
      "I would be delighted to have you as my guest for tonight's dinner. I hope you could make it.\n",
      "\n",
      "Sincerely yours,\n",
      "MS\n",
      "\n",
      "\n",
      "PS I found a bigger dinner table.\n",
      "Dear Mr. Heisenberg,\n",
      "\n",
      "I would be delighted to have you as my guest for tonight's dinner. I hope you could make it.\n",
      "\n",
      "Sincerely yours,\n",
      "MS\n",
      "\n",
      "\n",
      "PS I found a bigger dinner table.\n"
     ]
    }
   ],
   "source": [
    "for i in range(len(guests)-2,len(guests)):\n",
    "    print(salutation + guests[i] + \",\\n\\n\"+ message + \"\\n\\n\" + endnote + \"\\n\\n\")\n",
    "    print(\"PS I found a bigger dinner table.\")"
   ]
  },
  {
   "cell_type": "code",
   "execution_count": 35,
   "metadata": {},
   "outputs": [
    {
     "name": "stdout",
     "output_type": "stream",
     "text": [
      "['Feynman', 'DebbieJin', 'Dirac', 'Schrodinger', 'Heisenberg']\n"
     ]
    }
   ],
   "source": [
    "guests3 = guests\n",
    "print(guests3)"
   ]
  },
  {
   "cell_type": "code",
   "execution_count": 36,
   "metadata": {},
   "outputs": [
    {
     "name": "stdout",
     "output_type": "stream",
     "text": [
      "['MarieCurie', 'Feynman', 'DebbieJin', 'Dirac', 'Schrodinger', 'Heisenberg']\n",
      "['MarieCurie', 'Feynman', 'DebbieJin', 'Dirac', 'Schrodinger', 'Heisenberg']\n"
     ]
    }
   ],
   "source": [
    "guests3.insert(0,'MarieCurie')\n",
    "print(guests3)\n",
    "print(guests)"
   ]
  },
  {
   "cell_type": "code",
   "execution_count": 37,
   "metadata": {},
   "outputs": [
    {
     "name": "stdout",
     "output_type": "stream",
     "text": [
      "['MarieCurie', 'Feynman', 'DebbieJin', 'Bourdain', 'Dirac', 'Schrodinger', 'Heisenberg']\n",
      "['MarieCurie', 'Feynman', 'DebbieJin', 'Bourdain', 'Dirac', 'Schrodinger', 'Heisenberg']\n"
     ]
    }
   ],
   "source": [
    "guests.insert(int(len(guests)/2), 'Bourdain')\n",
    "print(guests)\n",
    "print(guests3)"
   ]
  },
  {
   "cell_type": "code",
   "execution_count": 38,
   "metadata": {},
   "outputs": [
    {
     "name": "stdout",
     "output_type": "stream",
     "text": [
      "['MarieCurie', 'Feynman', 'DebbieJin', 'Bourdain', 'Dirac', 'Schrodinger', 'Heisenberg', 'Zimmern']\n",
      "['MarieCurie', 'Feynman', 'DebbieJin', 'Bourdain', 'Dirac', 'Schrodinger', 'Heisenberg', 'Zimmern']\n"
     ]
    }
   ],
   "source": [
    "guests.append('Zimmern')\n",
    "print(guests)\n",
    "print(guests3)"
   ]
  },
  {
   "cell_type": "markdown",
   "metadata": {},
   "source": [
    "# Shrinking guest list"
   ]
  },
  {
   "cell_type": "code",
   "execution_count": 40,
   "metadata": {},
   "outputs": [
    {
     "name": "stdout",
     "output_type": "stream",
     "text": [
      "Sir/Madam MarieCurie,I can invite only two people now for dinner.\n",
      "Sir/Madam Feynman,I can invite only two people now for dinner.\n",
      "Sir/Madam DebbieJin,I can invite only two people now for dinner.\n",
      "Sir/Madam Bourdain,I can invite only two people now for dinner.\n",
      "Sir/Madam Dirac,I can invite only two people now for dinner.\n",
      "Sir/Madam Schrodinger,I can invite only two people now for dinner.\n",
      "Sir/Madam Heisenberg,I can invite only two people now for dinner.\n",
      "Sir/Madam Zimmern,I can invite only two people now for dinner.\n"
     ]
    }
   ],
   "source": [
    "message = \"I can invite only two people now for dinner.\"\n",
    "for i in range(len(guests)):\n",
    "    print(\"Sir/Madam \" + guests3[i] + \", \" + message)"
   ]
  },
  {
   "cell_type": "code",
   "execution_count": 41,
   "metadata": {},
   "outputs": [
    {
     "name": "stdout",
     "output_type": "stream",
     "text": [
      "I'm sorry, Sir/Madam MarieCurie. I have to retract my earlier invitation.\n",
      "['Feynman', 'DebbieJin', 'Bourdain', 'Dirac', 'Schrodinger', 'Heisenberg', 'Zimmern']\n"
     ]
    }
   ],
   "source": [
    "print(\"I'm sorry, Sir/Madam \" + guests3[0] + \". I have to retract my earlier invitation.\")\n",
    "guests3.pop(0)\n",
    "print(guests3)\n"
   ]
  },
  {
   "cell_type": "code",
   "execution_count": 43,
   "metadata": {},
   "outputs": [
    {
     "name": "stdout",
     "output_type": "stream",
     "text": [
      "I'm sorry, Sir/Madam Feynman. I have to retract my earlier invitation.\n",
      "['DebbieJin', 'Bourdain', 'Dirac', 'Schrodinger', 'Heisenberg', 'Zimmern']\n"
     ]
    }
   ],
   "source": [
    "print(\"I'm sorry, Sir/Madam \" + guests3[0] + \". I have to retract my earlier invitation.\")\n",
    "guests3.pop(0)\n",
    "print(guests3)"
   ]
  },
  {
   "cell_type": "code",
   "execution_count": 44,
   "metadata": {},
   "outputs": [
    {
     "name": "stdout",
     "output_type": "stream",
     "text": [
      "I'm sorry, Sir/Madam DebbieJin. I have to retract my earlier invitation.\n",
      "['Bourdain', 'Dirac', 'Schrodinger', 'Heisenberg', 'Zimmern']\n"
     ]
    }
   ],
   "source": [
    "print(\"I'm sorry, Sir/Madam \" + guests3[0] + \". I have to retract my earlier invitation.\")\n",
    "guests3.pop(0)\n",
    "print(guests3)"
   ]
  },
  {
   "cell_type": "code",
   "execution_count": 45,
   "metadata": {},
   "outputs": [
    {
     "name": "stdout",
     "output_type": "stream",
     "text": [
      "I'm sorry, Sir/Madam Dirac. I have to retract my earlier invitation.\n",
      "['Bourdain', 'Schrodinger', 'Heisenberg', 'Zimmern']\n"
     ]
    }
   ],
   "source": [
    "print(\"I'm sorry, Sir/Madam \" + guests3[1] + \". I have to retract my earlier invitation.\")\n",
    "guests3.pop(1)\n",
    "print(guests3)"
   ]
  },
  {
   "cell_type": "code",
   "execution_count": 46,
   "metadata": {},
   "outputs": [
    {
     "name": "stdout",
     "output_type": "stream",
     "text": [
      "I'm sorry, Sir/Madam Schrodinger. I have to retract my earlier invitation.\n",
      "['Bourdain', 'Heisenberg', 'Zimmern']\n"
     ]
    }
   ],
   "source": [
    "print(\"I'm sorry, Sir/Madam \" + guests3[1] + \". I have to retract my earlier invitation.\")\n",
    "guests3.pop(1)\n",
    "print(guests3)"
   ]
  },
  {
   "cell_type": "code",
   "execution_count": 47,
   "metadata": {},
   "outputs": [
    {
     "name": "stdout",
     "output_type": "stream",
     "text": [
      "I'm sorry, Sir/Madam Heisenberg. I have to retract my earlier invitation.\n",
      "['Bourdain', 'Zimmern']\n",
      "['Bourdain', 'Zimmern']\n"
     ]
    }
   ],
   "source": [
    "print(\"I'm sorry, Sir/Madam \" + guests3[1] + \". I have to retract my earlier invitation.\")\n",
    "guests3.pop(1)\n",
    "print(guests3)\n",
    "print(guests)"
   ]
  },
  {
   "cell_type": "code",
   "execution_count": 48,
   "metadata": {},
   "outputs": [
    {
     "name": "stdout",
     "output_type": "stream",
     "text": [
      "Sir Bourdain, I hope you could still make it to the dinner.\n",
      "Sir Zimmern, I hope you could still make it to the dinner.\n"
     ]
    }
   ],
   "source": [
    "for guest in guests:\n",
    "    print(\"Sir \" + guest + \", I hope you could still make it to the dinner.\")"
   ]
  },
  {
   "cell_type": "code",
   "execution_count": 52,
   "metadata": {},
   "outputs": [],
   "source": [
    "guests = ['Bourdain', 'Zimmern']\n",
    "del guests[0:2]"
   ]
  },
  {
   "cell_type": "code",
   "execution_count": 53,
   "metadata": {},
   "outputs": [
    {
     "name": "stdout",
     "output_type": "stream",
     "text": [
      "[]\n"
     ]
    }
   ],
   "source": [
    "print(guests)"
   ]
  },
  {
   "cell_type": "code",
   "execution_count": null,
   "metadata": {},
   "outputs": [],
   "source": []
  }
 ],
 "metadata": {
  "kernelspec": {
   "display_name": "Python 3",
   "language": "python",
   "name": "python3"
  },
  "language_info": {
   "codemirror_mode": {
    "name": "ipython",
    "version": 3
   },
   "file_extension": ".py",
   "mimetype": "text/x-python",
   "name": "python",
   "nbconvert_exporter": "python",
   "pygments_lexer": "ipython3",
   "version": "3.7.4"
  }
 },
 "nbformat": 4,
 "nbformat_minor": 2
}
