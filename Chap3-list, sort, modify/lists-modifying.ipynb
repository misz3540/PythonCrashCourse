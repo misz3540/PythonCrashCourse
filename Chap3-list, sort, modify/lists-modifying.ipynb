{
 "cells": [
  {
   "cell_type": "code",
   "execution_count": 2,
   "metadata": {},
   "outputs": [
    {
     "name": "stdout",
     "output_type": "stream",
     "text": [
      "['suzuki', 'kawasaki', 'honda']\n",
      "['suzuki', 'kawasaki', 'ducati']\n"
     ]
    }
   ],
   "source": [
    "motorcycles = ['suzuki', 'kawasaki', 'honda']\n",
    "print(motorcycles)\n",
    "\n",
    "motorcycles[-1] = 'ducati'\n",
    "print(motorcycles)"
   ]
  },
  {
   "cell_type": "code",
   "execution_count": 3,
   "metadata": {},
   "outputs": [
    {
     "name": "stdout",
     "output_type": "stream",
     "text": [
      "['suzuki', 'kawasaki', 'ducati', 'yamaha']\n"
     ]
    }
   ],
   "source": [
    "motorcycles.append('yamaha')\n",
    "print(motorcycles)"
   ]
  },
  {
   "cell_type": "code",
   "execution_count": 4,
   "metadata": {},
   "outputs": [
    {
     "name": "stdout",
     "output_type": "stream",
     "text": [
      "[]\n",
      "['yamaha', 'ducati', 'suzuki']\n"
     ]
    }
   ],
   "source": [
    "motorcycles = []\n",
    "print(motorcycles)\n",
    "motorcycles.append('yamaha')\n",
    "motorcycles.append('ducati')\n",
    "motorcycles.append('suzuki')\n",
    "print(motorcycles)"
   ]
  },
  {
   "cell_type": "code",
   "execution_count": 8,
   "metadata": {},
   "outputs": [
    {
     "name": "stdout",
     "output_type": "stream",
     "text": [
      "['kawasaki', 'yamaha', 'kawasaki', 'ducati', 'suzuki']\n"
     ]
    }
   ],
   "source": [
    "motorcycles.insert(-2,'kawasaki')\n",
    "print(motorcycles)"
   ]
  },
  {
   "cell_type": "code",
   "execution_count": 9,
   "metadata": {},
   "outputs": [],
   "source": [
    "del(motorcycles[0])"
   ]
  },
  {
   "cell_type": "code",
   "execution_count": 10,
   "metadata": {},
   "outputs": [
    {
     "name": "stdout",
     "output_type": "stream",
     "text": [
      "['yamaha', 'kawasaki', 'ducati', 'suzuki']\n"
     ]
    }
   ],
   "source": [
    "print(motorcycles)"
   ]
  },
  {
   "cell_type": "code",
   "execution_count": 11,
   "metadata": {},
   "outputs": [
    {
     "name": "stdout",
     "output_type": "stream",
     "text": [
      "['yamaha', 'ducati', 'suzuki']\n"
     ]
    }
   ],
   "source": [
    "del motorcycles[1]\n",
    "print(motorcycles)"
   ]
  },
  {
   "cell_type": "code",
   "execution_count": 12,
   "metadata": {},
   "outputs": [
    {
     "name": "stdout",
     "output_type": "stream",
     "text": [
      "['yamaha', 'ducati', 'suzuki']\n",
      "['yamaha', 'ducati']\n",
      "suzuki\n"
     ]
    }
   ],
   "source": [
    "print(motorcycles)\n",
    "popped_motorcycles = motorcycles.pop()\n",
    "print(motorcycles)\n",
    "print(popped_motorcycles)"
   ]
  },
  {
   "cell_type": "code",
   "execution_count": 13,
   "metadata": {},
   "outputs": [
    {
     "name": "stdout",
     "output_type": "stream",
     "text": [
      "['yamaha', 'ducati', 'suzuki']\n"
     ]
    }
   ],
   "source": [
    "motorcycles.append(popped_motorcycles)\n",
    "print(motorcycles)"
   ]
  },
  {
   "cell_type": "code",
   "execution_count": 14,
   "metadata": {},
   "outputs": [
    {
     "name": "stdout",
     "output_type": "stream",
     "text": [
      "Last motorcycle he owned was a Suzuki.\n"
     ]
    }
   ],
   "source": [
    "last_owned = motorcycles.pop()\n",
    "print('Last motorcycle he owned was a ' + last_owned.title() + '.')"
   ]
  },
  {
   "cell_type": "code",
   "execution_count": 15,
   "metadata": {},
   "outputs": [
    {
     "name": "stdout",
     "output_type": "stream",
     "text": [
      "['yamaha', 'ducati', 'suzuki']\n",
      "First owned motorcycle was a Yamaha.\n"
     ]
    }
   ],
   "source": [
    "motorcycles.append(last_owned)\n",
    "print(motorcycles)\n",
    "first_owned = motorcycles.pop(0)\n",
    "print(\"First owned motorcycle was a \" + first_owned.title() + \".\" )"
   ]
  },
  {
   "cell_type": "code",
   "execution_count": 28,
   "metadata": {},
   "outputs": [
    {
     "name": "stdout",
     "output_type": "stream",
     "text": [
      "['yamaha', 'ducati', 'maserati', 'suzuki']\n",
      "['yamaha', 'maserati', 'suzuki']\n",
      "\n",
      " A Ducati is too expensive for me.\n"
     ]
    }
   ],
   "source": [
    "motorcycles = ['yamaha', 'ducati','maserati','suzuki']\n",
    "print(motorcycles)\n",
    "too_expensive = 'ducati'\n",
    "motorcycles.remove(too_expensive)\n",
    "print(motorcycles)\n",
    "print(\"\\n A \" + too_expensive.title() + \" is too expensive for me.\")"
   ]
  },
  {
   "cell_type": "code",
   "execution_count": null,
   "metadata": {},
   "outputs": [],
   "source": []
  }
 ],
 "metadata": {
  "kernelspec": {
   "display_name": "Python 3",
   "language": "python",
   "name": "python3"
  },
  "language_info": {
   "codemirror_mode": {
    "name": "ipython",
    "version": 3
   },
   "file_extension": ".py",
   "mimetype": "text/x-python",
   "name": "python",
   "nbconvert_exporter": "python",
   "pygments_lexer": "ipython3",
   "version": "3.7.4"
  }
 },
 "nbformat": 4,
 "nbformat_minor": 2
}
