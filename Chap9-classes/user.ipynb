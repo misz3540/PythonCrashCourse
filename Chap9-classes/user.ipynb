{
 "cells": [
  {
   "cell_type": "code",
   "execution_count": null,
   "metadata": {},
   "outputs": [],
   "source": [
    "class User():\n",
    "    \n",
    "    def __init__(self, first_name, last_name, location, nick_name):\n",
    "        self.name = first_name.title() + \" \" + last_name.title()\n",
    "        self.location = location.title()\n",
    "        self.nick_name = nick_name.title()\n",
    "        self.login_attempts = 0\n",
    "        \n",
    "    def describe_user(self):\n",
    "        print(\"\\n\" + self.name + \" is based in \" + self.location + \".\")\n",
    "        print(\"You can call \" + self.name + \" \" + self.nick_name + \".\")\n",
    "        \n",
    "    def greet_user(self):\n",
    "        print(\"\\nHello, \" + self.nick_name + \"!\")\n",
    "        \n",
    "    def increment_login_attempts(self):\n",
    "        self.login_attempts += 1\n",
    "        \n",
    "    def reset_login_attempts(self):\n",
    "        self.login_attempts = 0\n",
    "        \n",
    "# class Privileges():\n",
    "    \n",
    "#     def __init__(self):\n",
    "#         self.privileges = ['can add post', 'can delete post', 'can ban user']\n",
    "        \n",
    "#     def show_privileges(self):\n",
    "#         print(\"Administrator has these privileges:\")\n",
    "#         for privilege in self.privileges:\n",
    "#             print(\"-\" + privilege)\n",
    "\n",
    "# class Admin(User):\n",
    "    \n",
    "#     def __init__(self, first_name, last_name, location, nick_name):\n",
    "#         super().__init__(first_name, last_name, location, nick_name)\n",
    "#         self.privileges = Privileges()\n",
    "        \n",
    "\n"
   ]
  }
 ],
 "metadata": {
  "kernelspec": {
   "display_name": "Python 3",
   "language": "python",
   "name": "python3"
  },
  "language_info": {
   "codemirror_mode": {
    "name": "ipython",
    "version": 3
   },
   "file_extension": ".py",
   "mimetype": "text/x-python",
   "name": "python",
   "nbconvert_exporter": "python",
   "pygments_lexer": "ipython3",
   "version": "3.7.4"
  }
 },
 "nbformat": 4,
 "nbformat_minor": 2
}
