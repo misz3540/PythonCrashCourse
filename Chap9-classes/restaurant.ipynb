{
 "cells": [
  {
   "cell_type": "code",
   "execution_count": null,
   "metadata": {},
   "outputs": [],
   "source": [
    "\"\"\"A class that can be used to represent restaurants.\n",
    "\"\"\"\n",
    "class Restaurant():\n",
    "    \n",
    "    def __init__(self, restaurant_name, cuisine_type):\n",
    "        self.name = restaurant_name\n",
    "        self.type = cuisine_type\n",
    "        self.number_served = 0\n",
    "        \n",
    "    def describe_restaurant(self):\n",
    "        print(\"\\nWelcome to \" + self.name.title() + \"!\")\n",
    "        print(\"We serve \" + self.type.title() + \" cuisine.\")\n",
    "        \n",
    "    def open_restaurant(self):\n",
    "        print(\"We are now open!\")\n",
    "        \n",
    "    def set_number_served(self, number_of_diners):\n",
    "        self.number_served = number_of_diners\n",
    "        \n",
    "    def increment_number_served(self, daily_no_of_customers):\n",
    "        self.number_served += daily_no_of_customers"
   ]
  }
 ],
 "metadata": {
  "kernelspec": {
   "display_name": "Python 3",
   "language": "python",
   "name": "python3"
  },
  "language_info": {
   "codemirror_mode": {
    "name": "ipython",
    "version": 3
   },
   "file_extension": ".py",
   "mimetype": "text/x-python",
   "name": "python",
   "nbconvert_exporter": "python",
   "pygments_lexer": "ipython3",
   "version": "3.7.4"
  }
 },
 "nbformat": 4,
 "nbformat_minor": 2
}
