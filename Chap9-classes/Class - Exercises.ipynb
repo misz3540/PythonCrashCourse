{
 "cells": [
  {
   "cell_type": "markdown",
   "metadata": {},
   "source": [
    "# 9-1 Restaurant"
   ]
  },
  {
   "cell_type": "code",
   "execution_count": null,
   "metadata": {},
   "outputs": [],
   "source": [
    "class Restaurant():\n",
    "    \n",
    "    def __init__(self, restaurant_name, cuisine_type):\n",
    "        self.name = restaurant_name\n",
    "        self.type = cuisine_type\n",
    "        \n",
    "    def describe_restaurant(self):\n",
    "        print(\"\\nWelcome to \" + self.name.title() + \"!\")\n",
    "        print(\"We serve \" + self.type.title() + \" cuisine.\")\n",
    "        \n",
    "    def open_restaurant(self):\n",
    "        print(\"We are now open!\")"
   ]
  },
  {
   "cell_type": "code",
   "execution_count": null,
   "metadata": {},
   "outputs": [],
   "source": [
    "my_restaurant = Restaurant('quantum entanglement', 'fusion' )\n",
    "print(\"My restaurant's called \" + my_restaurant.name.title() + \".\")\n",
    "print(\"It serves \" + my_restaurant.type + \" food.\")"
   ]
  },
  {
   "cell_type": "code",
   "execution_count": null,
   "metadata": {},
   "outputs": [],
   "source": [
    "my_restaurant.describe_restaurant()\n",
    "my_restaurant.open_restaurant()"
   ]
  },
  {
   "cell_type": "markdown",
   "metadata": {},
   "source": [
    "# 9-2 Three restaurants"
   ]
  },
  {
   "cell_type": "code",
   "execution_count": null,
   "metadata": {},
   "outputs": [],
   "source": [
    "pizzeria = Restaurant(\"carreli's\", 'italian')\n",
    "cafe = Restaurant('panera bread', 'american+sandwiches')\n",
    "diner = Restaurant('illustrado', 'mexican')\n",
    "\n",
    "pizzeria.describe_restaurant()\n",
    "cafe.describe_restaurant()\n",
    "diner.describe_restaurant()"
   ]
  },
  {
   "cell_type": "markdown",
   "metadata": {},
   "source": [
    "# 9-3 User"
   ]
  },
  {
   "cell_type": "code",
   "execution_count": null,
   "metadata": {},
   "outputs": [],
   "source": [
    "class User():\n",
    "    \n",
    "    def __init__(self, first_name, last_name, location, nick_name):\n",
    "#         self.first_name = first_name.title()\n",
    "#         self.last_name = last_name.title()\n",
    "        self.name = first_name.title() + \" \" + last_name.title()\n",
    "        self.location = location.title()\n",
    "        self.nick_name = nick_name.title()\n",
    "        \n",
    "    def describe_user(self):\n",
    "        print(\"\\n\" + self.name + \" is based in \" + self.location + \".\")\n",
    "        print(\"You can call \" + self.name + \" \" + self.nick_name + \".\")\n",
    "        \n",
    "    def greet_user(self):\n",
    "        print(\"\\nHello, \" + self.nick_name + \"!\")\n",
    "        "
   ]
  },
  {
   "cell_type": "code",
   "execution_count": null,
   "metadata": {},
   "outputs": [],
   "source": [
    "user1 = User('Jane', 'Doe', 'america', 'J')\n",
    "user1.describe_user()\n",
    "user1.greet_user()\n",
    "\n",
    "user2 = User('Richard', 'Feynman', 'america', 'rich')\n",
    "user2.describe_user()\n",
    "user2.greet_user()\n",
    "\n",
    "user3 = User('maria', 'curie', 'paris', 'marie')\n",
    "user3.describe_user()\n",
    "user3.greet_user()"
   ]
  },
  {
   "cell_type": "markdown",
   "metadata": {},
   "source": [
    "# 9-4 Number served"
   ]
  },
  {
   "cell_type": "code",
   "execution_count": null,
   "metadata": {},
   "outputs": [],
   "source": [
    "class Restaurant():\n",
    "    \n",
    "    def __init__(self, restaurant_name, cuisine_type):\n",
    "        self.name = restaurant_name\n",
    "        self.type = cuisine_type\n",
    "        self.number_served = 0\n",
    "        \n",
    "    def describe_restaurant(self):\n",
    "        print(\"\\nWelcome to \" + self.name.title() + \"!\")\n",
    "        print(\"We serve \" + self.type.title() + \" cuisine.\")\n",
    "        \n",
    "    def open_restaurant(self):\n",
    "        print(\"We are now open!\")\n",
    "        \n",
    "    def set_number_served(self, number_of_diners):\n",
    "        self.number_served = number_of_diners\n",
    "        \n",
    "    def increment_number_served(self, daily_no_of_customers):\n",
    "        self.number_served += daily_no_of_customers\n",
    "        "
   ]
  },
  {
   "cell_type": "code",
   "execution_count": null,
   "metadata": {},
   "outputs": [],
   "source": [
    "restaurant = Restaurant('bamboo bear', 'chinese')\n",
    "print(restaurant.number_served)\n",
    "\n",
    "restaurant.number_served = 17\n",
    "print(restaurant.number_served)\n",
    "\n",
    "restaurant.set_number_served(20)\n",
    "print(restaurant.number_served)\n",
    "\n",
    "restaurant.increment_number_served(50)\n",
    "print(restaurant.number_served)"
   ]
  },
  {
   "cell_type": "markdown",
   "metadata": {},
   "source": [
    "# 9-5 Login attempts"
   ]
  },
  {
   "cell_type": "code",
   "execution_count": null,
   "metadata": {},
   "outputs": [],
   "source": [
    "class User():\n",
    "    \n",
    "    def __init__(self, first_name, last_name, location, nick_name):\n",
    "#         self.first_name = first_name.title()\n",
    "#         self.last_name = last_name.title()\n",
    "        self.name = first_name.title() + \" \" + last_name.title()\n",
    "        self.location = location.title()\n",
    "        self.nick_name = nick_name.title()\n",
    "        self.login_attempts = 0\n",
    "        \n",
    "    def describe_user(self):\n",
    "        print(\"\\n\" + self.name + \" is based in \" + self.location + \".\")\n",
    "        print(\"You can call \" + self.name + \" \" + self.nick_name + \".\")\n",
    "        \n",
    "    def greet_user(self):\n",
    "        print(\"\\nHello, \" + self.nick_name + \"!\")\n",
    "        \n",
    "    def increment_login_attempts(self):\n",
    "        self.login_attempts += 1\n",
    "        \n",
    "    def reset_login_attempts(self):\n",
    "        self.login_attempts = 0\n",
    "        "
   ]
  },
  {
   "cell_type": "code",
   "execution_count": null,
   "metadata": {},
   "outputs": [],
   "source": [
    "user4 = User('victoria','secret', 'pink world', 'vicky')\n",
    "user4.increment_login_attempts()\n",
    "print(user4.login_attempts)\n",
    "\n",
    "user4.increment_login_attempts()\n",
    "print(user4.login_attempts)\n",
    "\n",
    "user4.increment_login_attempts()\n",
    "user4.increment_login_attempts()\n",
    "print(user4.login_attempts)\n",
    "\n",
    "user4.reset_login_attempts()\n",
    "print(user4.login_attempts)"
   ]
  },
  {
   "cell_type": "markdown",
   "metadata": {},
   "source": [
    "# 9-6 Ice cream stand"
   ]
  },
  {
   "cell_type": "code",
   "execution_count": null,
   "metadata": {},
   "outputs": [],
   "source": [
    "class Restaurant():\n",
    "    \n",
    "    def __init__(self, restaurant_name, cuisine_type):\n",
    "        self.name = restaurant_name\n",
    "        self.type = cuisine_type\n",
    "        self.number_served = 0\n",
    "        \n",
    "    def describe_restaurant(self):\n",
    "        print(\"\\nWelcome to \" + self.name.title() + \"!\")\n",
    "        print(\"We serve \" + self.type.title() + \" cuisine.\")\n",
    "        \n",
    "    def open_restaurant(self):\n",
    "        print(\"We are now open!\")\n",
    "        \n",
    "    def set_number_served(self, number_of_diners):\n",
    "        self.number_served = number_of_diners\n",
    "        \n",
    "    def increment_number_served(self, daily_no_of_customers):\n",
    "        self.number_served += daily_no_of_customers\n",
    "        \n",
    "class IceCreamStand(Restaurant):\n",
    "    \n",
    "    def __init__(self, restaurant_name, cuisine_type):\n",
    "        super().__init__(restaurant_name, cuisine_type)\n",
    "        self.flavors = ['belgian choco', 'cookies & cream', 'pistacchios', 'chestnut']\n",
    "        \n",
    "    def list_flavors(self):\n",
    "        print(self.name + \" serves the following flavors: \")\n",
    "        for flavor in self.flavors:\n",
    "            print(flavor)\n",
    "            "
   ]
  },
  {
   "cell_type": "code",
   "execution_count": null,
   "metadata": {},
   "outputs": [],
   "source": [
    "ice_cream_stand = IceCreamStand('Coolner', 'ice cream')\n",
    "ice_cream_stand.list_flavors()"
   ]
  },
  {
   "cell_type": "markdown",
   "metadata": {},
   "source": [
    "# 9-7 Admin"
   ]
  },
  {
   "cell_type": "code",
   "execution_count": null,
   "metadata": {},
   "outputs": [],
   "source": [
    "class User():\n",
    "    \n",
    "    def __init__(self, first_name, last_name, location, nick_name):\n",
    "        self.name = first_name.title() + \" \" + last_name.title()\n",
    "        self.location = location.title()\n",
    "        self.nick_name = nick_name.title()\n",
    "        self.login_attempts = 0\n",
    "        \n",
    "    def describe_user(self):\n",
    "        print(\"\\n\" + self.name + \" is based in \" + self.location + \".\")\n",
    "        print(\"You can call \" + self.name + \" \" + self.nick_name + \".\")\n",
    "        \n",
    "    def greet_user(self):\n",
    "        print(\"\\nHello, \" + self.nick_name + \"!\")\n",
    "        \n",
    "    def increment_login_attempts(self):\n",
    "        self.login_attempts += 1\n",
    "        \n",
    "    def reset_login_attempts(self):\n",
    "        self.login_attempts = 0\n",
    "        \n",
    "class Admin(User):\n",
    "    \n",
    "    def __init__(self, first_name, last_name, location, nick_name):\n",
    "        super().__init__(first_name, last_name, location, nick_name)\n",
    "        self.privileges = ['can add post', 'can delete post', 'can ban user']\n",
    "        \n",
    "    def show_privileges(self):\n",
    "        print(\"Administrator \" + self.nick_name + \" has these privileges:\")\n",
    "        for privilege in self.privileges:\n",
    "            print(\"-\" + privilege)"
   ]
  },
  {
   "cell_type": "code",
   "execution_count": null,
   "metadata": {},
   "outputs": [],
   "source": [
    "master = Admin('Harry', 'Potter', 'hogwarts', 'harry')\n",
    "master.show_privileges()"
   ]
  },
  {
   "cell_type": "markdown",
   "metadata": {},
   "source": [
    "# 9-8 Privileges"
   ]
  },
  {
   "cell_type": "code",
   "execution_count": null,
   "metadata": {},
   "outputs": [],
   "source": [
    "class User():\n",
    "    \n",
    "    def __init__(self, first_name, last_name, location, nick_name):\n",
    "        self.name = first_name.title() + \" \" + last_name.title()\n",
    "        self.location = location.title()\n",
    "        self.nick_name = nick_name.title()\n",
    "        self.login_attempts = 0\n",
    "        \n",
    "    def describe_user(self):\n",
    "        print(\"\\n\" + self.name + \" is based in \" + self.location + \".\")\n",
    "        print(\"You can call \" + self.name + \" \" + self.nick_name + \".\")\n",
    "        \n",
    "    def greet_user(self):\n",
    "        print(\"\\nHello, \" + self.nick_name + \"!\")\n",
    "        \n",
    "    def increment_login_attempts(self):\n",
    "        self.login_attempts += 1\n",
    "        \n",
    "    def reset_login_attempts(self):\n",
    "        self.login_attempts = 0\n",
    "        \n",
    "class Privileges():\n",
    "    \n",
    "    def __init__(self):\n",
    "        self.privileges = ['can add post', 'can delete post', 'can ban user']\n",
    "        \n",
    "    def show_privileges(self):\n",
    "        print(\"Administrator has these privileges:\")\n",
    "        for privilege in self.privileges:\n",
    "            print(\"-\" + privilege)\n",
    "\n",
    "class Admin(User):\n",
    "    \n",
    "    def __init__(self, first_name, last_name, location, nick_name):\n",
    "        super().__init__(first_name, last_name, location, nick_name)\n",
    "        self.privileges = Privileges()\n",
    "        \n"
   ]
  },
  {
   "cell_type": "code",
   "execution_count": null,
   "metadata": {},
   "outputs": [],
   "source": [
    "master = Admin('Harry', 'Potter', 'hogwarts', 'harry')\n",
    "master.privileges.show_privileges()"
   ]
  },
  {
   "cell_type": "markdown",
   "metadata": {},
   "source": [
    "# 9-9 Battery upgrade"
   ]
  },
  {
   "cell_type": "code",
   "execution_count": null,
   "metadata": {},
   "outputs": [],
   "source": [
    "class Car():\n",
    "    \"\"\"A simple attempt to represent a car.\"\"\"\n",
    "    \n",
    "    def __init__(self, make, model, year):\n",
    "        \"\"\"Initialize attributes to describe a car.\"\"\"\n",
    "        self.make = make\n",
    "        self.model = model\n",
    "        self.year = year\n",
    "        self.odometer_reading = 0\n",
    "        self.gas_amount = 5\n",
    "        \n",
    "    def get_descriptive_name(self):\n",
    "        \"\"\"Return a neatly formatted descriptive name.\"\"\"\n",
    "        long_name = str(self.year) + ' ' + self.make + ' ' + self.model\n",
    "        return long_name.title()\n",
    "    \n",
    "    def read_odometer(self):\n",
    "        \"\"\"Print a statement showing the car's mileage.\"\"\"\n",
    "        print(\"This car has \" + str(self.odometer_reading) + \" miles on it.\")\n",
    "        \n",
    "    def update_odometer(self, mileage):\n",
    "        \"\"\"\n",
    "        Set the odometer reading to the given value.\n",
    "        Reject the change if it attempts to roll the odometer back.\n",
    "        \"\"\"\n",
    "        if mileage >= self.odometer_reading:\n",
    "            self.odometer_reading = mileage\n",
    "        else:\n",
    "            print(\"You can't roll back an odometer!\")\n",
    "            \n",
    "    def increment_odometer(self, miles):\n",
    "        \"\"\"Add the given amount to the odometer reading.\"\"\"\n",
    "        self.odometer_reading += miles\n",
    "        \n",
    "    def fill_gas_tank(self):\n",
    "        self.gas_amount = 20\n",
    "        print(\"Gas tank is now full and contains \" + str(self.gas_amount) + \" gals of gas.\" )\n",
    "        \n",
    "class Battery():\n",
    "    \"\"\"A simple attempt to model a battery for an electric car.\"\"\"\n",
    "    \n",
    "    def __init__(self, battery_size=70):\n",
    "        \"\"\"Initialize the battery's attributes.\"\"\"\n",
    "        self.battery_size = battery_size\n",
    "        \n",
    "    def describe_battery(self):\n",
    "        \"\"\"Print a statement describing the battery size.\"\"\"\n",
    "        print(\"This car has a \" + str(self.battery_size) + \"-kWh battery.\")\n",
    "        \n",
    "    def get_range(self):\n",
    "        \"\"\"Print a statement about the range this battery provides.\"\"\"\n",
    "        if self.battery_size == 70:\n",
    "            range = 240\n",
    "        elif self.battery_size == 85:\n",
    "            range = 270\n",
    "        message = \"This car can go approximately \" + str(range)\n",
    "        message += \" miles on a full charge.\"\n",
    "        print(message)\n",
    "        \n",
    "    def upgrade_battery(self):\n",
    "        if self.battery_size != 85:\n",
    "            self.battery_size = 85\n",
    "        elif self.battery_size == 85:\n",
    "            print(\"Battery has been upgraded.\")\n",
    "        \n",
    "\n",
    "        \n",
    "class ElectricCar(Car):\n",
    "    \"\"\"Represent aspects of a car, specific to electric vehicles.\"\"\"\n",
    "    def __init__(self, make, model, year):\n",
    "        \"\"\"\n",
    "        Initialize attributes of the parent class.\n",
    "        Then initialize attributes specific to an electric car.\n",
    "        \"\"\"\n",
    "        super().__init__(make, model, year)\n",
    "        self.battery = Battery()\n",
    "        \n",
    "my_tesla = ElectricCar('tesla', 'model s', 2016)\n",
    "\n",
    "print(my_tesla.get_descriptive_name())\n",
    "my_tesla.battery.describe_battery()\n",
    "my_tesla.battery.get_range()\n",
    "\n",
    "print(\"Upgrading battery...\")\n",
    "my_tesla.battery.upgrade_battery()\n",
    "my_tesla.battery.describe_battery()\n",
    "my_tesla.battery.get_range()\n",
    "\n",
    "print(\"Upgrading battery...\")\n",
    "my_tesla.battery.upgrade_battery()\n",
    "my_tesla.battery.describe_battery()\n",
    "my_tesla.battery.get_range()"
   ]
  },
  {
   "cell_type": "markdown",
   "metadata": {},
   "source": [
    "# 9-10 Imported restaurant"
   ]
  },
  {
   "cell_type": "code",
   "execution_count": null,
   "metadata": {},
   "outputs": [],
   "source": [
    "from restaurant import Restaurant\n",
    "\n",
    "my_restaurant = Restaurant('Better foods', 'native')\n",
    "my_restaurant.describe_restaurant()"
   ]
  },
  {
   "cell_type": "markdown",
   "metadata": {},
   "source": [
    "# 9-11 Imported admin"
   ]
  },
  {
   "cell_type": "code",
   "execution_count": null,
   "metadata": {},
   "outputs": [],
   "source": [
    "#Need to combine User, Admin, and Privileges classes in user module\n",
    "import user\n",
    "master = user.Admin('Harry', 'Potter', 'hogwarts', 'harry')\n",
    "master.privileges.show_privileges()"
   ]
  },
  {
   "cell_type": "code",
   "execution_count": null,
   "metadata": {},
   "outputs": [],
   "source": [
    "#Need to combine User, Admin, and Privileges classes in user module\n",
    "from user import User, Admin\n",
    "# import user\n",
    "master2 = Admin('Harry', 'Potter', 'hogwarts', 'harry')\n",
    "master2.privileges.show_privileges()"
   ]
  },
  {
   "cell_type": "markdown",
   "metadata": {},
   "source": [
    "# 9-12 Multiple modules"
   ]
  },
  {
   "cell_type": "code",
   "execution_count": 1,
   "metadata": {},
   "outputs": [
    {
     "name": "stdout",
     "output_type": "stream",
     "text": [
      "Administrator has these privileges:\n",
      "-can add post\n",
      "-can delete post\n",
      "-can ban user\n"
     ]
    }
   ],
   "source": [
    "#Need to separate User and  (Admin, and Privileges) modules\n",
    "from admin import Admin\n",
    "\n",
    "master3 = Admin('Harry', 'Potter', 'hogwarts', 'harry')\n",
    "master3.privileges.show_privileges()"
   ]
  },
  {
   "cell_type": "markdown",
   "metadata": {},
   "source": [
    "# 9-13 OrderedDict rewrite"
   ]
  },
  {
   "cell_type": "code",
   "execution_count": 3,
   "metadata": {},
   "outputs": [
    {
     "name": "stdout",
     "output_type": "stream",
     "text": [
      "Opuscule: A small or minor literary or musical work.\n",
      "Fugleman: A leader.\n",
      "Quotidian: Ordinary or everyday, especially when mundane.\n",
      "Subitaneous: That occurs or is manifested suddenly, spontaneously, or in haste; sudden, hasty, unexpected.\n",
      "Quaesitum: That which is sought; the answer to a problem.\n",
      "Georgic: Rustic; pastoral.\n"
     ]
    }
   ],
   "source": [
    "from collections import OrderedDict\n",
    "\n",
    "glossary = OrderedDict()\n",
    "glossary['opuscule'] = 'A small or minor literary or musical work.'\n",
    "glossary['fugleman'] = 'A leader.'\n",
    "glossary['quotidian'] = 'Ordinary or everyday, especially when mundane.'\n",
    "glossary['subitaneous'] = 'That occurs or is manifested suddenly, spontaneously, or in haste; sudden, hasty, unexpected.'\n",
    "glossary['quaesitum'] = 'That which is sought; the answer to a problem.'\n",
    "glossary['georgic'] = 'Rustic; pastoral.'\n",
    "\n",
    "for term, definition in glossary.items():\n",
    "    print(term.title() + \": \" + definition)"
   ]
  },
  {
   "cell_type": "markdown",
   "metadata": {},
   "source": [
    "# 9-14 Dice"
   ]
  },
  {
   "cell_type": "code",
   "execution_count": 13,
   "metadata": {},
   "outputs": [
    {
     "name": "stdout",
     "output_type": "stream",
     "text": [
      "[6, 3, 5, 1, 4, 1, 4, 5, 6, 3]\n",
      "[3, 5, 1, 5, 2, 8, 10, 9, 2, 8]\n",
      "[16, 12, 16, 7, 8, 1, 19, 14, 6, 16]\n"
     ]
    }
   ],
   "source": [
    "from random import randint\n",
    "class Die():\n",
    "\n",
    "    def __init__(self, number_of_sides=6):\n",
    "        self.sides = number_of_sides\n",
    "        \n",
    "    def roll_die(self):\n",
    "        randint(1, 6)\n",
    "        value = randint(1, self.sides)\n",
    "        return value\n",
    "    \n",
    "die6 = Die(6)\n",
    "die_roll_combi = [die6.roll_die() for i in range(10)]\n",
    "print(die_roll_combi)\n",
    "\n",
    "die10 = Die(10)\n",
    "die_roll_combi = [die10.roll_die() for i in range(10)]\n",
    "print(die_roll_combi)\n",
    "\n",
    "die20 = Die(20)\n",
    "die_roll_combi = [die20.roll_die() for i in range(10)]\n",
    "print(die_roll_combi)"
   ]
  },
  {
   "cell_type": "code",
   "execution_count": 8,
   "metadata": {},
   "outputs": [
    {
     "name": "stdout",
     "output_type": "stream",
     "text": [
      "6\n"
     ]
    }
   ],
   "source": [
    "from random import randint\n",
    "x = randint(1, 6)\n",
    "\n",
    "print(x)"
   ]
  },
  {
   "cell_type": "code",
   "execution_count": null,
   "metadata": {},
   "outputs": [],
   "source": []
  }
 ],
 "metadata": {
  "kernelspec": {
   "display_name": "Python 3",
   "language": "python",
   "name": "python3"
  },
  "language_info": {
   "codemirror_mode": {
    "name": "ipython",
    "version": 3
   },
   "file_extension": ".py",
   "mimetype": "text/x-python",
   "name": "python",
   "nbconvert_exporter": "python",
   "pygments_lexer": "ipython3",
   "version": "3.7.4"
  }
 },
 "nbformat": 4,
 "nbformat_minor": 2
}
