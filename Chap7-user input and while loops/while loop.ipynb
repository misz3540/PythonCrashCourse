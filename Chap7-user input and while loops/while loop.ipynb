{
 "cells": [
  {
   "cell_type": "markdown",
   "metadata": {},
   "source": [
    "# counting"
   ]
  },
  {
   "cell_type": "code",
   "execution_count": 1,
   "metadata": {},
   "outputs": [
    {
     "name": "stdout",
     "output_type": "stream",
     "text": [
      "1\n",
      "2\n",
      "3\n",
      "4\n",
      "5\n"
     ]
    }
   ],
   "source": [
    "current_number = 1\n",
    "while current_number <=5:\n",
    "    print(current_number)\n",
    "    current_number += 1"
   ]
  },
  {
   "cell_type": "markdown",
   "metadata": {},
   "source": [
    "# parrot"
   ]
  },
  {
   "cell_type": "code",
   "execution_count": 5,
   "metadata": {},
   "outputs": [
    {
     "name": "stdout",
     "output_type": "stream",
     "text": [
      "\n",
      "Tell me something, and I will repeat it back to you: \n",
      "Enter 'quit' to end the program. hello\n",
      "hello\n",
      "\n",
      "Tell me something, and I will repeat it back to you: \n",
      "Enter 'quit' to end the program. hello again\n",
      "hello again\n",
      "\n",
      "Tell me something, and I will repeat it back to you: \n",
      "Enter 'quit' to end the program. quit\n"
     ]
    }
   ],
   "source": [
    "prompt = \"\\nTell me something, and I will repeat it back to you: \"\n",
    "prompt += \"\\nEnter 'quit' to end the program. \"\n",
    "message = \"\"\n",
    "while message != 'quit':\n",
    "    message = input(prompt)\n",
    "    \n",
    "    if message != 'quit':\n",
    "        print(message)\n",
    "    \n"
   ]
  },
  {
   "cell_type": "markdown",
   "metadata": {},
   "source": [
    "# Using a flag"
   ]
  },
  {
   "cell_type": "code",
   "execution_count": 6,
   "metadata": {},
   "outputs": [
    {
     "name": "stdout",
     "output_type": "stream",
     "text": [
      "\n",
      "Tell me something, and I will repeat it back to you: \n",
      "Enter 'quit' to end the program. hello\n",
      "hello\n",
      "\n",
      "Tell me something, and I will repeat it back to you: \n",
      "Enter 'quit' to end the program. hello again\n",
      "hello again\n",
      "\n",
      "Tell me something, and I will repeat it back to you: \n",
      "Enter 'quit' to end the program. quit\n"
     ]
    }
   ],
   "source": [
    "prompt = \"\\nTell me something, and I will repeat it back to you: \"\n",
    "prompt += \"\\nEnter 'quit' to end the program. \"\n",
    "\n",
    "active = True\n",
    "while active:\n",
    "    message = input(prompt)\n",
    "    \n",
    "    if message == 'quit':\n",
    "        active = False\n",
    "    else:\n",
    "        print(message)"
   ]
  },
  {
   "cell_type": "markdown",
   "metadata": {},
   "source": [
    "# Using break -- cities"
   ]
  },
  {
   "cell_type": "code",
   "execution_count": 8,
   "metadata": {},
   "outputs": [
    {
     "name": "stdout",
     "output_type": "stream",
     "text": [
      "\n",
      "Please enter the name of a city you have visited: \n",
      "(Enter 'quit' when you are finished.) Boulder\n",
      "I'd love to go to Boulder!\n",
      "\n",
      "Please enter the name of a city you have visited: \n",
      "(Enter 'quit' when you are finished.) Amsterdam\n",
      "I'd love to go to Amsterdam!\n",
      "\n",
      "Please enter the name of a city you have visited: \n",
      "(Enter 'quit' when you are finished.) quit\n"
     ]
    }
   ],
   "source": [
    "prompt = \"\\nPlease enter the name of a city you have visited: \"\n",
    "prompt += \"\\n(Enter 'quit' when you are finished.) \"\n",
    "\n",
    "while True:\n",
    "    city = input(prompt)\n",
    "    \n",
    "    if city == 'quit':\n",
    "        break\n",
    "    else:\n",
    "        print(\"I'd love to go to \" + city.title() + \"!\")"
   ]
  },
  {
   "cell_type": "markdown",
   "metadata": {},
   "source": [
    "# Using continue in a loop"
   ]
  },
  {
   "cell_type": "markdown",
   "metadata": {},
   "source": [
    "counting"
   ]
  },
  {
   "cell_type": "code",
   "execution_count": 9,
   "metadata": {},
   "outputs": [
    {
     "name": "stdout",
     "output_type": "stream",
     "text": [
      "1\n",
      "3\n",
      "5\n",
      "7\n",
      "9\n"
     ]
    }
   ],
   "source": [
    "#counting\n",
    "\n",
    "current_number = 0\n",
    "while current_number < 10:\n",
    "    current_number += 1\n",
    "    if current_number % 2 == 0:\n",
    "        continue\n",
    "        \n",
    "    print(current_number)"
   ]
  },
  {
   "cell_type": "code",
   "execution_count": 10,
   "metadata": {},
   "outputs": [
    {
     "name": "stdout",
     "output_type": "stream",
     "text": [
      "1\n",
      "2\n",
      "3\n",
      "4\n",
      "5\n"
     ]
    }
   ],
   "source": [
    "x = 1\n",
    "while x <= 5:\n",
    "    print(x)\n",
    "    x += 1"
   ]
  },
  {
   "cell_type": "markdown",
   "metadata": {},
   "source": [
    "# confirmed_users"
   ]
  },
  {
   "cell_type": "code",
   "execution_count": 12,
   "metadata": {},
   "outputs": [
    {
     "name": "stdout",
     "output_type": "stream",
     "text": [
      "Verifying user: Candace\n",
      "Verifying user: Brian\n",
      "Verifying user: Alice\n",
      "\n",
      "The following users have been confirmed: \n",
      "Candace\n",
      "Brian\n",
      "Alice\n"
     ]
    }
   ],
   "source": [
    "#Start with users that need to be verified, and an empty list to hold confirmed users.\n",
    "unconfirmed_users = ['alice', 'brian', 'candace']\n",
    "confirmed_users = []\n",
    "\n",
    "#Verify each user until there are no more unconfirmed users.\n",
    "#Move each verified user into the list of confirmed users.\n",
    "while unconfirmed_users:\n",
    "    current_user = unconfirmed_users.pop()\n",
    "    \n",
    "    print(\"Verifying user: \" + current_user.title())\n",
    "    confirmed_users.append(current_user)\n",
    "\n",
    "#Display all confirmed users.\n",
    "print(\"\\nThe following users have been confirmed: \")\n",
    "for confirmed_user in confirmed_users:\n",
    "    print(confirmed_user.title())"
   ]
  },
  {
   "cell_type": "markdown",
   "metadata": {},
   "source": [
    "# pets -- removing all instances of specific values from a list"
   ]
  },
  {
   "cell_type": "code",
   "execution_count": 14,
   "metadata": {},
   "outputs": [
    {
     "name": "stdout",
     "output_type": "stream",
     "text": [
      "['dog', 'cat', 'dog', 'goldfish', 'cat', 'rabbit', 'cat']\n",
      "['dog', 'dog', 'goldfish', 'rabbit']\n"
     ]
    }
   ],
   "source": [
    "pets = ['dog', 'cat', 'dog', 'goldfish', 'cat', 'rabbit', 'cat']\n",
    "print(pets)\n",
    "\n",
    "while 'cat' in pets:\n",
    "    pets.remove('cat')\n",
    "\n",
    "print(pets)"
   ]
  },
  {
   "cell_type": "markdown",
   "metadata": {},
   "source": [
    "# mountain_poll"
   ]
  },
  {
   "cell_type": "code",
   "execution_count": 1,
   "metadata": {},
   "outputs": [
    {
     "name": "stdout",
     "output_type": "stream",
     "text": [
      "\n",
      "What is your name? Michelle\n",
      "Which mountain would you like to climb someday? Everest\n",
      "Would you like to let another person respond? (yes/no) yes\n",
      "\n",
      "What is your name? Jica\n",
      "Which mountain would you like to climb someday? Patagonia\n",
      "Would you like to let another person respond? (yes/no) no\n",
      "\n",
      "--- Poll results ---\n",
      "Michelle would like to climb Everest.\n",
      "Jica would like to climb Patagonia.\n"
     ]
    }
   ],
   "source": [
    "responses = {}\n",
    "\n",
    "# Set a flag to indicate that polling is active.\n",
    "polling_active = True\n",
    "\n",
    "while polling_active:\n",
    "    #Prompt for the person's name and response\n",
    "    name = input(\"\\nWhat is your name? \")\n",
    "    response = input(\"Which mountain would you like to climb someday? \")\n",
    "    \n",
    "    #Store the response in the dictionary:\n",
    "    responses[name] = response\n",
    "    \n",
    "    #Find out if anyone else is going to take the poll.\n",
    "    repeat = input(\"Would you like to let another person respond? (yes/no) \")\n",
    "    if repeat == 'no':\n",
    "        polling_active = False\n",
    "        \n",
    "#Polling is complete. Show the results\n",
    "print(\"\\n--- Poll results ---\")\n",
    "for name, response in responses.items():\n",
    "    print(name.title() + \" would like to climb \" + response + \".\")"
   ]
  },
  {
   "cell_type": "code",
   "execution_count": null,
   "metadata": {},
   "outputs": [],
   "source": []
  }
 ],
 "metadata": {
  "kernelspec": {
   "display_name": "Python 3",
   "language": "python",
   "name": "python3"
  },
  "language_info": {
   "codemirror_mode": {
    "name": "ipython",
    "version": 3
   },
   "file_extension": ".py",
   "mimetype": "text/x-python",
   "name": "python",
   "nbconvert_exporter": "python",
   "pygments_lexer": "ipython3",
   "version": "3.7.4"
  }
 },
 "nbformat": 4,
 "nbformat_minor": 2
}
