{
 "cells": [
  {
   "cell_type": "markdown",
   "metadata": {},
   "source": [
    "# 7-1 Rental car"
   ]
  },
  {
   "cell_type": "code",
   "execution_count": 2,
   "metadata": {},
   "outputs": [
    {
     "name": "stdout",
     "output_type": "stream",
     "text": [
      "What kind of rental car would you like? ferrari\n",
      "\n",
      "Let me see if I can find you a Ferrari...\n"
     ]
    }
   ],
   "source": [
    "car = input(\"What kind of rental car would you like? \")\n",
    "print(\"\\nLet me see if I can find you a \" + car.title() + \"...\")"
   ]
  },
  {
   "cell_type": "markdown",
   "metadata": {},
   "source": [
    "# 7-2 Restaurant seating"
   ]
  },
  {
   "cell_type": "code",
   "execution_count": 4,
   "metadata": {},
   "outputs": [
    {
     "name": "stdout",
     "output_type": "stream",
     "text": [
      "How many people in your party? 4\n",
      "\n",
      "You're table is ready.\n"
     ]
    }
   ],
   "source": [
    "guest_no = int(input(\"How many people in your party? \"))\n",
    "if guest_no  > 8:\n",
    "    print(\"\\nYou'll have to wait for a table. \")\n",
    "else:\n",
    "    print(\"\\nYou're table is ready.\")\n",
    "    "
   ]
  },
  {
   "cell_type": "markdown",
   "metadata": {},
   "source": [
    "# 7-3 Multiples of ten"
   ]
  },
  {
   "cell_type": "code",
   "execution_count": 7,
   "metadata": {},
   "outputs": [
    {
     "name": "stdout",
     "output_type": "stream",
     "text": [
      "Enter an integer: 0\n",
      "0 is NOT divisible by 10.\n"
     ]
    }
   ],
   "source": [
    "number = int(input(\"Enter an integer: \"))\n",
    "if number % 10 == 0 and number > 9:\n",
    "    print(str(number) + \" is divisible by 10.\")\n",
    "else:\n",
    "    print(str(number) + \" is NOT divisible by 10.\")"
   ]
  },
  {
   "cell_type": "markdown",
   "metadata": {},
   "source": [
    "# 7-4 Pizza toppings"
   ]
  },
  {
   "cell_type": "code",
   "execution_count": 2,
   "metadata": {},
   "outputs": [
    {
     "name": "stdout",
     "output_type": "stream",
     "text": [
      "Enter pizza topping: \n",
      "(Enter 'quit' when done.) mushrooms\n",
      "Adding mushrooms to your pizza.\n",
      "Enter pizza topping: \n",
      "(Enter 'quit' when done.) peppers\n",
      "Adding peppers to your pizza.\n",
      "Enter pizza topping: \n",
      "(Enter 'quit' when done.) bacon\n",
      "Adding bacon to your pizza.\n",
      "Enter pizza topping: \n",
      "(Enter 'quit' when done.) quit\n"
     ]
    }
   ],
   "source": [
    "prompt = \"Enter pizza topping: \"\n",
    "prompt += \"\\n(Enter 'quit' when done.) \"\n",
    "\n",
    "active = True\n",
    "\n",
    "while active:\n",
    "    message = input(prompt)\n",
    "    \n",
    "    if message == 'quit':\n",
    "        active = False\n",
    "    else:\n",
    "        print(\"Adding \" + message + \" to your pizza.\")\n",
    "    \n",
    "    "
   ]
  },
  {
   "cell_type": "markdown",
   "metadata": {},
   "source": [
    "# Movie tickets"
   ]
  },
  {
   "cell_type": "code",
   "execution_count": 7,
   "metadata": {},
   "outputs": [
    {
     "name": "stdout",
     "output_type": "stream",
     "text": [
      "\n",
      "Enter your age: \n",
      "(Enter 'quit' to exit. )45\n",
      "Your ticket costs $15.\n",
      "\n",
      "Enter your age: \n",
      "(Enter 'quit' to exit. )2\n",
      "Your ticket costs $0.\n",
      "\n",
      "Enter your age: \n",
      "(Enter 'quit' to exit. )quit\n"
     ]
    }
   ],
   "source": [
    "prompt = \"\\nEnter your age: \"\n",
    "prompt += \"\\n(Enter 'quit' to exit. )\"\n",
    "\n",
    "# active = True\n",
    "\n",
    "while True:\n",
    "    age = input(prompt)\n",
    "    \n",
    "    if age == 'quit':\n",
    "        break\n",
    "    else:\n",
    "        age = int(age)\n",
    "        if age < 3:\n",
    "            cost = 0\n",
    "        elif age <= 12:\n",
    "            cost = 10\n",
    "        else:\n",
    "            cost = 15\n",
    "        print(\"Your ticket costs $\" + str(cost) + \".\")\n",
    "        \n",
    "\n"
   ]
  },
  {
   "cell_type": "code",
   "execution_count": 11,
   "metadata": {},
   "outputs": [
    {
     "name": "stdout",
     "output_type": "stream",
     "text": [
      "\n",
      "Enter your age: \n",
      "(Enter 'quit' to exit.) 7\n",
      "Your ticket costs $10.\n",
      "\n",
      "Enter your age: \n",
      "(Enter 'quit' to exit.) 9\n",
      "Your ticket costs $10.\n",
      "\n",
      "Enter your age: \n",
      "(Enter 'quit' to exit.) 87\n",
      "Your ticket costs $15.\n",
      "\n",
      "Enter your age: \n",
      "(Enter 'quit' to exit.) quit\n"
     ]
    }
   ],
   "source": [
    "prompt = \"\\nEnter your age: \"\n",
    "prompt += \"\\n(Enter 'quit' to exit.) \"\n",
    "\n",
    "active = True\n",
    "\n",
    "while active == True:\n",
    "    age = input(prompt)\n",
    "    \n",
    "    if age == 'quit':\n",
    "        active = False\n",
    "    else:\n",
    "        age = int(age)\n",
    "        if age < 3:\n",
    "            cost = 0\n",
    "        elif age <= 12:\n",
    "            cost = 10\n",
    "        else:\n",
    "            cost = 15\n",
    "        print(\"Your ticket costs $\" + str(cost) + \".\")"
   ]
  },
  {
   "cell_type": "code",
   "execution_count": 13,
   "metadata": {},
   "outputs": [
    {
     "name": "stdout",
     "output_type": "stream",
     "text": [
      "\n",
      "Enter your age: \n",
      "(Enter 'quit' to exit.) 2\n",
      "Your ticket costs $0.\n",
      "\n",
      "Enter your age: \n",
      "(Enter 'quit' to exit.) 8\n",
      "Your ticket costs $10.\n",
      "\n",
      "Enter your age: \n",
      "(Enter 'quit' to exit.) 44\n",
      "Your ticket costs $15.\n",
      "\n",
      "Enter your age: \n",
      "(Enter 'quit' to exit.) quit\n"
     ]
    }
   ],
   "source": [
    "prompt = \"\\nEnter your age: \"\n",
    "prompt += \"\\n(Enter 'quit' to exit.) \"\n",
    "\n",
    "age = \"\"\n",
    "\n",
    "while age != 'quit':\n",
    "    age = input(prompt)\n",
    "    \n",
    "    if age != 'quit':\n",
    "        age = int(age)\n",
    "        if age < 3:\n",
    "            cost = 0\n",
    "        elif age <= 12:\n",
    "            cost = 10\n",
    "        else:\n",
    "            cost = 15\n",
    "        print(\"Your ticket costs $\" + str(cost) + \".\")"
   ]
  },
  {
   "cell_type": "markdown",
   "metadata": {},
   "source": [
    "# 7-7 Infinity"
   ]
  },
  {
   "cell_type": "markdown",
   "metadata": {},
   "source": [
    "# 7-8 Deli"
   ]
  },
  {
   "cell_type": "code",
   "execution_count": 6,
   "metadata": {},
   "outputs": [
    {
     "name": "stdout",
     "output_type": "stream",
     "text": [
      "\n",
      "Your roasted eggplant sandwich is being made...\n",
      "\n",
      "Your roast beef sandwich is being made...\n",
      "\n",
      "Your the half fast sub sandwich is being made...\n",
      "\n",
      "Your turkey avocado sandwich is being made...\n",
      "\n",
      "The following sandwiches are ready: \n",
      "turkey avocado\n",
      "the half fast sub\n",
      "roast beef\n",
      "roasted eggplant\n"
     ]
    }
   ],
   "source": [
    "sandwich_orders = ['turkey avocado', 'the half fast sub', 'roast beef', 'roasted eggplant']\n",
    "finished_sandwiches = []\n",
    "\n",
    "while sandwich_orders:\n",
    "    making_sandwich = sandwich_orders.pop()\n",
    "    print(\"\\nYour \" + making_sandwich + \" sandwich is being made...\")\n",
    "    finished_sandwiches.append(making_sandwich)\n",
    "    \n",
    "print(\"\\nThe following sandwiches are ready: \")\n",
    "finished_sandwiches.reverse()\n",
    "for sandwich in finished_sandwiches:\n",
    "    print(sandwich)"
   ]
  },
  {
   "cell_type": "markdown",
   "metadata": {},
   "source": [
    "# 7-9 No pastrami"
   ]
  },
  {
   "cell_type": "code",
   "execution_count": 8,
   "metadata": {},
   "outputs": [
    {
     "name": "stdout",
     "output_type": "stream",
     "text": [
      "['pastrami', 'turkey avocado', 'the half fast sub', 'pastrami', 'roast beef', 'pastrami', 'roasted eggplant']\n",
      "\n",
      "deli has run out of pastrami\n",
      "\n",
      "The following sandwiches are ready: \n",
      "turkey avocado\n",
      "the half fast sub\n",
      "roast beef\n",
      "roasted eggplant\n"
     ]
    }
   ],
   "source": [
    "sandwich_orders = ['pastrami','turkey avocado', 'the half fast sub', 'pastrami', 'roast beef', 'pastrami','roasted eggplant']\n",
    "print(sandwich_orders)\n",
    "\n",
    "print(\"\\ndeli has run out of pastrami\")\n",
    "while 'pastrami' in sandwich_orders:\n",
    "    sandwich_orders.remove('pastrami')\n",
    "    \n",
    "finished_sandwiches = sandwich_orders\n",
    "\n",
    "print(\"\\nThe following sandwiches are ready: \")\n",
    "for sandwich in finished_sandwiches:\n",
    "    print(sandwich)"
   ]
  },
  {
   "cell_type": "markdown",
   "metadata": {},
   "source": [
    "# 7-10 Dream vacation"
   ]
  },
  {
   "cell_type": "code",
   "execution_count": 9,
   "metadata": {},
   "outputs": [
    {
     "name": "stdout",
     "output_type": "stream",
     "text": [
      "\n",
      "What is your name? Leila\n",
      "If you could visit one place in the world, where would you go? the Alps\n",
      "Would you like to enter another response? (yes/no)yes\n",
      "\n",
      "What is your name? Sarah\n",
      "If you could visit one place in the world, where would you go? Machu Picchu\n",
      "Would you like to enter another response? (yes/no)no\n",
      "\n",
      " --- Poll results ---\n",
      "Leila would like to visit The Alps.\n",
      "Sarah would like to visit Machu Picchu.\n"
     ]
    }
   ],
   "source": [
    "dream_vacation = {}\n",
    "\n",
    "poll_active = True\n",
    "while poll_active:\n",
    "    name = input(\"\\nWhat is your name? \")\n",
    "    destination = input(\"If you could visit one place in the world, where would you go? \")\n",
    "    \n",
    "    dream_vacation[name] = destination\n",
    "    \n",
    "    repeat = input(\"Would you like to enter another response? (yes/no) \")\n",
    "    \n",
    "    if repeat == 'no':\n",
    "        poll_active = False\n",
    "\n",
    "print(\"\\n --- Poll results ---\")\n",
    "for name, place in dream_vacation.items():\n",
    "    print(name.title() + \" would like to visit \" + place.title() + \".\")\n",
    "    "
   ]
  },
  {
   "cell_type": "code",
   "execution_count": null,
   "metadata": {},
   "outputs": [],
   "source": []
  }
 ],
 "metadata": {
  "kernelspec": {
   "display_name": "Python 3",
   "language": "python",
   "name": "python3"
  },
  "language_info": {
   "codemirror_mode": {
    "name": "ipython",
    "version": 3
   },
   "file_extension": ".py",
   "mimetype": "text/x-python",
   "name": "python",
   "nbconvert_exporter": "python",
   "pygments_lexer": "ipython3",
   "version": "3.7.4"
  }
 },
 "nbformat": 4,
 "nbformat_minor": 2
}
