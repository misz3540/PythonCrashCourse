{
 "cells": [
  {
   "cell_type": "markdown",
   "metadata": {},
   "source": [
    "# Alien colors 1"
   ]
  },
  {
   "cell_type": "code",
   "execution_count": 2,
   "metadata": {},
   "outputs": [
    {
     "name": "stdout",
     "output_type": "stream",
     "text": [
      "Player just earned 5 points\n"
     ]
    }
   ],
   "source": [
    "alien_color = 'green'\n",
    "if alien_color == 'green':\n",
    "    print(\"Player just earned 5 points\")"
   ]
  },
  {
   "cell_type": "markdown",
   "metadata": {},
   "source": [
    "# Alien colors 2"
   ]
  },
  {
   "cell_type": "code",
   "execution_count": 7,
   "metadata": {},
   "outputs": [
    {
     "name": "stdout",
     "output_type": "stream",
     "text": [
      "Player just earned 5 points.\n",
      "Player just earned 5 points.\n"
     ]
    }
   ],
   "source": [
    "alien_color = 'green'\n",
    "\n",
    "if alien_color == 'green':\n",
    "    points = 5\n",
    "if alien_color != 'green':\n",
    "    points = 10\n",
    "print(\"Player just earned \" + str(points) + \" points.\")\n",
    "\n",
    "if alien_color == 'green':\n",
    "    points = 5\n",
    "else:\n",
    "    points = 10\n",
    "print(\"Player just earned \" + str(points) + \" points.\")"
   ]
  },
  {
   "cell_type": "markdown",
   "metadata": {},
   "source": [
    "# Alien colors 3"
   ]
  },
  {
   "cell_type": "code",
   "execution_count": 10,
   "metadata": {},
   "outputs": [
    {
     "name": "stdout",
     "output_type": "stream",
     "text": [
      "Player just earned 10 points.\n"
     ]
    }
   ],
   "source": [
    "alien_color =  'yellow'\n",
    "\n",
    "if alien_color == 'green':\n",
    "    points = 5\n",
    "elif alien_color == 'yellow':\n",
    "    points = 10\n",
    "elif alien_color == 'red':\n",
    "    points = 15\n",
    "print(\"Player just earned \" + str(points) + \" points.\")"
   ]
  },
  {
   "cell_type": "markdown",
   "metadata": {},
   "source": [
    "# Stages of life"
   ]
  },
  {
   "cell_type": "code",
   "execution_count": 15,
   "metadata": {},
   "outputs": [
    {
     "name": "stdout",
     "output_type": "stream",
     "text": [
      "You're a/an teenager.\n"
     ]
    }
   ],
   "source": [
    "age = 13\n",
    "\n",
    "if age < 2:\n",
    "    stage = 'baby'\n",
    "elif age < 4:\n",
    "    stage = 'toddler'\n",
    "elif age < 13:\n",
    "    stage = 'kid'\n",
    "elif age < 20:\n",
    "    stage = 'teenager'\n",
    "elif age < 65:\n",
    "    stage = 'adult'\n",
    "elif age >= 65:\n",
    "    stage = 'elder'\n",
    "    \n",
    "print(\"You're a/an \" + stage + \".\")\n",
    "    \n"
   ]
  },
  {
   "cell_type": "markdown",
   "metadata": {},
   "source": [
    "# Favorite fruit"
   ]
  },
  {
   "cell_type": "code",
   "execution_count": 16,
   "metadata": {},
   "outputs": [
    {
     "name": "stdout",
     "output_type": "stream",
     "text": [
      "You really like grapefruit!\n",
      "You really like pomelo!\n"
     ]
    }
   ],
   "source": [
    "favorite_fruits = ['grapefruit', 'pomelo', 'blueberries']\n",
    "\n",
    "init_statement = \"You really like \"\n",
    "if 'orange' in favorite_fruits:\n",
    "    print(init_statement + 'orange!')\n",
    "if 'grapes' in favorite_fruits:\n",
    "    print(init_statement + 'grapes!')\n",
    "if 'grapefruit' in favorite_fruits:\n",
    "    print(init_statement + 'grapefruit!')\n",
    "if 'apple' in favorite_fruits:\n",
    "    print(init_statement + 'apple!')\n",
    "if 'pomelo' in favorite_fruits:\n",
    "    print(init_statement + 'pomelo!')"
   ]
  },
  {
   "cell_type": "markdown",
   "metadata": {},
   "source": [
    "# Hello Admin"
   ]
  },
  {
   "cell_type": "code",
   "execution_count": 1,
   "metadata": {},
   "outputs": [
    {
     "name": "stdout",
     "output_type": "stream",
     "text": [
      "Hello admin, would you like to see a status report?\n",
      "Hello B1, thank you for logging in again.\n",
      "Hello B2, thank you for logging in again.\n",
      "Hello Ninja, thank you for logging in again.\n",
      "Hello Murphy, thank you for logging in again.\n"
     ]
    }
   ],
   "source": [
    "usernames = ['admin', 'B1', 'B2', 'Ninja', 'Murphy']\n",
    "\n",
    "for user in usernames:\n",
    "    if user == 'admin':\n",
    "        print(\"Hello admin, would you like to see a status report?\")\n",
    "    else:\n",
    "        print(\"Hello \" + user + \", thank you for logging in again.\")"
   ]
  },
  {
   "cell_type": "markdown",
   "metadata": {},
   "source": [
    "# No users"
   ]
  },
  {
   "cell_type": "code",
   "execution_count": 3,
   "metadata": {},
   "outputs": [
    {
     "name": "stdout",
     "output_type": "stream",
     "text": [
      "Hello Eli, thank you for logging in again.\n",
      "Hello admin, would you like to see a status report?\n"
     ]
    }
   ],
   "source": [
    "usernames = ['Eli', 'admin']\n",
    "\n",
    "if usernames:\n",
    "    for user in usernames:\n",
    "        if user == 'admin':\n",
    "            print(\"Hello admin, would you like to see a status report?\")\n",
    "        else:\n",
    "            print(\"Hello \" + user + \", thank you for logging in again.\")\n",
    "else:\n",
    "    print(\"We nee to find some users!\")"
   ]
  },
  {
   "cell_type": "markdown",
   "metadata": {},
   "source": [
    "# Checking usernames"
   ]
  },
  {
   "cell_type": "code",
   "execution_count": 7,
   "metadata": {},
   "outputs": [
    {
     "name": "stdout",
     "output_type": "stream",
     "text": [
      "sally is available.\n",
      "Enter another username.\n",
      "Enter another username.\n",
      "harry is available.\n",
      "willie is available.\n"
     ]
    }
   ],
   "source": [
    "current_users = ['betty', 'B1', 'B2', 'Ninja', 'murphy', 'Nero']\n",
    "\n",
    "new_users = ['sally', 'b1', 'MURPHY', 'harry', 'willie']\n",
    "\n",
    "current_users = [current_user.title() for current_user in current_users]\n",
    "\n",
    "for new_user in new_users:\n",
    "    if new_user.title() in current_users:\n",
    "        print(\"Enter another username.\")\n",
    "    else:\n",
    "        print(new_user + \" is available.\")"
   ]
  },
  {
   "cell_type": "markdown",
   "metadata": {},
   "source": [
    "# Ordinal numbers"
   ]
  },
  {
   "cell_type": "code",
   "execution_count": 9,
   "metadata": {},
   "outputs": [
    {
     "name": "stdout",
     "output_type": "stream",
     "text": [
      "[1, 2, 3, 4, 5, 6, 7, 8, 9]\n"
     ]
    }
   ],
   "source": [
    "numbers = list(range(1,10))\n",
    "print(numbers)"
   ]
  },
  {
   "cell_type": "code",
   "execution_count": 10,
   "metadata": {},
   "outputs": [
    {
     "name": "stdout",
     "output_type": "stream",
     "text": [
      "1st\n",
      "2nd\n",
      "3rd\n",
      "4th\n",
      "5th\n",
      "6th\n",
      "7th\n",
      "8th\n",
      "9th\n"
     ]
    }
   ],
   "source": [
    "for number in numbers:\n",
    "    if number == 1:\n",
    "        print(str(number) + \"st\")\n",
    "    elif number == 2:\n",
    "        print(str(number) + \"nd\")\n",
    "    elif number == 3:\n",
    "        print(str(number) + \"rd\")\n",
    "    else:\n",
    "        print(str(number) + \"th\")"
   ]
  },
  {
   "cell_type": "code",
   "execution_count": null,
   "metadata": {},
   "outputs": [],
   "source": []
  }
 ],
 "metadata": {
  "kernelspec": {
   "display_name": "Python 3",
   "language": "python",
   "name": "python3"
  },
  "language_info": {
   "codemirror_mode": {
    "name": "ipython",
    "version": 3
   },
   "file_extension": ".py",
   "mimetype": "text/x-python",
   "name": "python",
   "nbconvert_exporter": "python",
   "pygments_lexer": "ipython3",
   "version": "3.7.4"
  }
 },
 "nbformat": 4,
 "nbformat_minor": 2
}
